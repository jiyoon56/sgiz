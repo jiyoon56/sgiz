{
  "nbformat": 4,
  "nbformat_minor": 0,
  "metadata": {
    "colab": {
      "name": "CNC장비설비_이상_데이터.ipynb",
      "provenance": [],
      "collapsed_sections": [],
      "authorship_tag": "ABX9TyNZbAyEmTayfu54qu2/RBus",
      "include_colab_link": true
    },
    "kernelspec": {
      "name": "python3",
      "display_name": "Python 3"
    },
    "language_info": {
      "name": "python"
    },
    "accelerator": "GPU"
  },
  "cells": [
    {
      "cell_type": "markdown",
      "metadata": {
        "id": "view-in-github",
        "colab_type": "text"
      },
      "source": [
        "<a href=\"https://colab.research.google.com/github/jiyoon56/sgiz/blob/main/CNC%EC%9E%A5%EB%B9%84%EC%84%A4%EB%B9%84_%EC%9D%B4%EC%83%81_%EB%8D%B0%EC%9D%B4%ED%84%B0.ipynb\" target=\"_parent\"><img src=\"https://colab.research.google.com/assets/colab-badge.svg\" alt=\"Open In Colab\"/></a>"
      ]
    },
    {
      "cell_type": "markdown",
      "source": [
        "#**데이터 정의**\n",
        "- CNC 장비 설비 이상 데이터\n",
        "\n",
        "     * 전력 : 설비 n초 전력 데이터(단위 : W)  \n",
        "\n",
        "     * 이상유무 : 설비 이상 데이터(0=정상, 1=이상)\n",
        "\n",
        "본 데이터는 CNC 장비 실제 데이터를 기반으로 만들어진 샘플용 데이터\n"
      ],
      "metadata": {
        "id": "V4l6nlZoj55s"
      }
    },
    {
      "cell_type": "markdown",
      "source": [
        "#**분석 목적**\n",
        "CNC 장비 설비 이상 데이터를 바탕으로 설치된 센서 데이터를 확인하여 정상과 이상의 구분점을 찾는 것"
      ],
      "metadata": {
        "id": "hAQXNqhWkVlB"
      }
    },
    {
      "cell_type": "markdown",
      "source": [
        "#**1. 라이브러리 불러오기**"
      ],
      "metadata": {
        "id": "zU_aQ-kAkeMF"
      }
    },
    {
      "cell_type": "code",
      "source": [
        "# 데이터 전처리를 위한 lib.\n",
        "\n",
        "import pandas as pd # 가장 기본적인 데이터분석lib, DF을 활용하여 다양한 분석 可\n",
        "import numpy as np # 파이썬 기반 수치 해석 lib, 수학&과학 연산 可\n",
        "import sys # 파이썬 인터프리터가 제공하는 변수와 함수를 직접 제어 可\n",
        "import pickle # 텍스트 상태이지만 데이터가 아닌 파이썬 객체 자체를 파일로 저장 可"
      ],
      "metadata": {
        "id": "cllXu4Mdkkvl"
      },
      "execution_count": 1,
      "outputs": []
    },
    {
      "cell_type": "code",
      "source": [
        "# 데이터 시각화를 위한 lib.\n",
        "\n",
        "'''\n",
        "matplotlib == 데이터 시각화와 2D 그래프 플롯에 사용되는 파이썬 lib로, \n",
        "판다스와 연계해 시각화 기능을 제공. 명령어 스타일로 동작.\n",
        "matplotlib.pyplot은 matplotlib의 모듈 중 하나로,\n",
        "자동적으로 figure과 axes를 생성하는 등 사용환경 인터페이스 제공.\n",
        "한글 폰트를 지원하지 않아 추가적으로 모듈 import 필요함.\n",
        "'''\n",
        "import seaborn as sns # 통계 그래프를 제공하는 고급 인터페이스 lib.\n",
        "import matplotlib.pyplot as plt\n",
        "from matplotlib import font_manager,rc\n",
        "\n",
        "'''\n",
        "matplotlib 한글 폰트 오류 문제 해결을 위한 모듈.\n",
        "font_manager == 한글 글꼴의 이름을 정확히 모르는 경우, 설치된 글꼴 이름을 찾기 위해 import\n",
        "rc == 글꼴 설정 변경을 위해 import.\n",
        "'''\n",
        "print('\\n')"
      ],
      "metadata": {
        "colab": {
          "base_uri": "https://localhost:8080/"
        },
        "id": "tG_ioIVjooyf",
        "outputId": "e05add99-662c-45ef-ab12-7bcfe8eed8de"
      },
      "execution_count": 2,
      "outputs": [
        {
          "output_type": "stream",
          "name": "stdout",
          "text": [
            "\n",
            "\n"
          ]
        }
      ]
    },
    {
      "cell_type": "code",
      "source": [
        "#Deep Learning 모델 구축을 위한 lib.\n",
        "'''\n",
        "sklearn == ML 학습을 위한 파이썬 lib.\n",
        "회귀분석, 분류, 군집 등 실무에서 적용하는 다양한 ML 모형 제공.\n",
        "NumPy와 SciPy가 미리 설치돼 있어야 함.(cmd에 설치하면 됨.)\n",
        "'''\n",
        "from sklearn import metrics  # 분류문제에 사용되는 성능 평가 명령 호출을 위한 패키지.\n",
        "from sklearn.metrics import accuracy_score # 평가지표 중 정확도.\n",
        "from sklearn.metrics import classification_report, confusion_matrix\n",
        "'''\n",
        "classification_report == 각각의 클래스를 양성(positive) 클래스로 볼 때\n",
        "정밀도, 재현율, F1 점수를 각각 구하고 그 평균값으로 전체 모형의 성능 평가.\n",
        "\n",
        "confusion_matirx == 분류 모델이 예측한 값과 레이블된 실제 값 간의 관계를 표로 나타냄.\n",
        "'''\n",
        "from sklearn import tree # 의사결정나무.\n",
        "from sklearn.ensemble import RandomForestClassifier # 랜덤포레스트.\n",
        "from sklearn.linear_model import LogisticRegression # 로지스틱 회귀분석.\n",
        "\n",
        "'''\n",
        "데이터 모델링 전 스케일링을 위한 lib.\n",
        "스케일링을 통해 다차원인 값의 비교&분석을 용이하게 하고\n",
        "자료의 오버/언더플로우를 방지하며,독립변수의 공분산 행렬의 조건 수를 감소시켜\n",
        "최적화 과정에서의 안정성 및 수렴 속도를 향상시킴.\n",
        "'''\n",
        "\n",
        "from sklearn.preprocessing import MinMaxScaler # 최댓값 == 1, 최솟값 ==0이 되도록 스케일링.\n",
        "from sklearn.preprocessing import StandardScaler # 평균과 표준편차를 사용하는 기본 스케일.\n",
        "'''\n",
        "평균을 제거하고, 데이터를 단위 분산으로 조정.\n",
        "이상치가 있다면 평균과 표준편차에 큰 영향을 미쳐\n",
        "변환된 데이터의 확산은 매우 달라짐.(MinMaxScaler도!)\n",
        "\n",
        "+단위 분산\n",
        "다양한 수치 크기의 입력 값 중 큰 수의 값에 \n",
        "신경망이 지나치게 영향을 받는 것을 방지하기 위해 분산을 1로 두는 것.\n",
        "'''\n",
        "\n",
        "from sklearn.model_selection import train_test_split # train, test data 분할을 위한 모듈.\n",
        "from xgboost import XGBClassifier\n",
        "'''\n",
        "Boosting ; 여러 개의 약한 결정트리를 조합해 사용하는 앙상블 학습 기법 중 하나.\n",
        "          약한 예측 모형들의 학습 에러에 가중치를 두고\n",
        "          순차적으로 다음 학습 모델에 반영해 강한 예측 모형을 만드는 것.\n",
        "\n",
        "+앙상블 학습법 ; 학습 알고리즘들을 따로 쓰는 경우보다\n",
        "                더 좋은 예측 성능을 얻기위해 \n",
        "                다수의 학습 알고리즘을 사용하는 방법.\n",
        "\n",
        "XGBoost ; Extreme Gradient Boosting\n",
        "          Gradient Boost가 대표적인 알고리즘.\n",
        "          회귀와 분류 문제 모두 지원 가능.\n",
        "'''\n",
        "\n",
        "import joblib # 학습한 모델을 pickle 파일로 저장하기 위한 lib. 디스크캐싱/병렬프로그래밍에도 사용.\n",
        "\n",
        "import warnings #경고 메시지 무시.\n",
        "np.set_printoptions(threshold=sys.maxsize)\n",
        "warnings.filterwarnings(action='ignore')"
      ],
      "metadata": {
        "id": "Mkd3CwvXo0tW"
      },
      "execution_count": 3,
      "outputs": []
    },
    {
      "cell_type": "markdown",
      "source": [
        "      혼동행렬\n",
        "\n",
        "![혼동행렬.png](data:image/png;base64,iVBORw0KGgoAAAANSUhEUgAABQAAAALQCAMAAAD4oy1kAAAAAXNSR0IArs4c6QAAAARnQU1BAACxjwv8YQUAAADJUExURf///wAAAHJycqenp52dnX9/f97e3hERETIyMvX19ff39x4eHgsLC+rq6gYGBsnJyeLi4kdHR2JiYlBQUL29vfv7+01NTcPDw0BAQDo6Oi0tLdTU1Hl5eYiIiNvb25ubm5SUlCgoKKKiot/f3+bm5peXl3t7e7i4uD8/P11dXYyMjDMzM9fX16+vr9DQ0G1tbaurq3Nzc+Xl5R0dHZKSkouLi1lZWRgYGFFRUcHBwWFhYWtra7a2tkxMTNPT0+Hh4VRUVERERAAAAGe+lJwAAABDdFJOU////////////////////////////////////////////////////////////////////////////////////////wBBYgTvAAAACXBIWXMAAA7DAAAOwwHHb6hkAAAszklEQVR4Xu3dzVLiTBQG4GEjC4uyymLplBfgZi5B7v+mvu505w/QHCUOnW+eZzEjimAOJ68nHcBfAAAAAAAAAAAAAAAAAAAAAAAAAAAAAAAAAAAAAAAAAAAAAAAAAAAAAAAAAAAAAAAAAAAAAAAAAAAAAAAAAAAAAAAAAAAAAAAAAAAAAAAAAAAAAAAAAAAAAAAAAAAAAAAAAAAAAAAAAAAAAAAAAAAAAAAAAAAAAAAAAAAAAABAy3awqtpYsAW1a2EltbFgCzQsa9JPbIqGZU36iU3RsKxJP7EpGpY16Sc2RcOyJv3EpmhY1qSf2BQNy5r0E5uiYVmTfmJTNCxr0k9sioZlTfqJTdGwrEk/sSkaljXpJzZFw7Im/cSmaFjWpJ/YFA3LmvQTm6JhWZN+YlM0LGvST2yKhmVN+olN0bCsST+xKRqWNeknNkXDsib9xKZoWNakn9gUDcua9BObomFZk35iUzQsa9JPbIqGZU36iU3RsKxJP7EpGpY16Sc2RcOyJv3EpmhY1qSf2BQNy5r0E5uiYVmTfmJTNCxr0k9sioZlTfqJTdGwrEk/sSkaljXpJzZFww5edn/qR73X3Uv9aNnD/q1+dGH/D9VYP7EpGjY77B9//Xq+EoC/60eX9rvBU7582L0dui9cetx99JX/H/3EpvzDDXs4pfB67j582KXxbZwAX0uwTVxOgpMA7OJtnACf66c7ORz3ewEITfp3G/ZQIyqH02GfxrfPAvDjSfBh/17/7yfAl/o9nRyAJkBo1L/bsPs8/R33efYrE+DlIXCa8hajK8XmQ8m6K2uAJxMgtOyfbdjjrpvcHuqh7OPlSZDD2+60e3yolz6Qvv9wKLdxZQ3w3QQILftnG7aPu7wQmNPrYgJMR7K/88Hwx0e/2fBNV88CmwChaf9sw6bJrfu/e6pLdxZ4MgE+vL6lTMzhlc+UPP7+cAx8LXNkkm7CBCgA2Zh/tWGHge0pR1h3aRjmuqHwsU/DY8rC7hD5ijQg9tnWLSOeO+XqHh5NgNCmfzcAT5MPulO4L7vX/lNvv6eRdXg9zY+Oe+koOV+vnva9EoBl9jMBQqP+3QCsx67dBx+cBf5cGg1L5tUn/k1PgpTbOpToK+dI8sHw/58AZFNMgPmD8zXAgHxkPH16dHcTg3pb/QQoAKFJ/2wA9mcvygQ4WwMMOKZEO81OjczXAOttdQuNB2eBoVH/asMOA9tTnuPqGmAXWjnbrpmn4/v72Znh7sUkg3Jb9U6sAUKj/tmG7cey+rK3cQKMBeCCclt1zDQBQqP+2YbtV/zqE6G7NcB6FjiqfmtvvgY4uS0TIDTqn23Y4647C1KW7r68Btg5C8Ara4CFCRAa9e827GM+Pj3uy7Hq/N1gpu911Qm8L2p3E4PJbZkAoVn/bsPWt0HoVunOnwf4vQCsH2XTCdArQaBV/3DDdm+IWt7q4PPnAX70zvjna4BdzJ1n5+7JBAit0rDZ52uAH70z/tU1wPLJtyJ/+GQNEFqlYbO6BvjBWeCPJ8APEvOMCRAapWGzz18LfGsAmgChURo2W2UN8MNTJSZAaJSGzVZZA/wwAE2A0CgNm9U1wC9OgFEmQGiUhmVN+olN0bCsST+xKRqWNeknNkXDsib9xKZoWNakn9gUDcua9BObomFZk35iUzQsa9JPbIqGZU36iU3RsKxJP7EpGpY16Sc2RcOyJv3EpmhY1qSf2BQNy5r0E5uiYVmTfmJTNCxr0k9sioZlTfqJTdGwrEk/sSkaljXpJzZFw7Im/cSmaFjWpJ/YFA3LmvQTm6JhWZN+YlM0LGvST2yKhmVN+olN0bCsST+xKRqWNeknNkXDsib9xKZoWNakn9gUDcua9BObomFZk35iUzQsa9JPbIqGZU36iU3RsKxJP7EpGpY16Sc2RcOyJv3EpmhY1qSf2BQNy5r0E5uiYVmTfmJTNCxr0k9sioZlTfqJTdGwrEk/sSkaljXpJzZFw7Im/cSmaFjWpJ/YlB2sqjYWbEHtWlhJbSzYAg0bo04x6sSmaNgYdYpRJzZFw8aoU4w6sSkaNkadYtSJTdGwMeoUo05sioaNUacYdWJTNGyMOsWoE5uiYWPUKUad2BQNG6NOMerEpmjYGHWKUSc2RcPGqFOMOrEpGjZGnWLUiU3RsDHqFKNObIqGjVGnGHViUzRsjDrFqBObomFj1ClGndgUDRujTjHqxKZo2Bh1ilEnNkXDxqhTjDqxKRo2Rp1i1IlN0bAx6hSjTmyKho1Rpxh1YlM0bIw6xagTm6JhY9QpRp3YFA0bo04x6sSmaNgYdYpRJzZFw8aoU4w6sSkaNkadYtSJTdGwMeoUo05sioaNUacYdWJTNGyMOsWoE5uiYWPUKUad2BQNG6NOMerEpmjYGHWKUSc2RcPGqFOMOrEpGjZGnWLUiU3RsDHqFKNObIqGjVGnGHViUzRsjDrFqBObomFj1ClGndiUv96wr7uJ9/Hy+0P5+svuT/kgec1XmH7L+KW/7T479rjlT93lp/6D7HV3qh91Dq9v+YqljncrmQBkU+4bgGkPPt9Vn2cB2O3iArDPvefd7nf3QVZ/PVTDVd9mlwQgfOJODfu4O9SPXncv+b+HU93Jr0yAf+ajzl3cKwC74vQO+9NYuL46RUq85zz7HV7f8xXOpsO/RwCyKXdq2P1+DMA60+zLzj6fAOsh8HTUuY97BeA48CXp4mkszyzk9vNR724lE4Bsyp0a9mICzHPeY/5vPgHWQ2ATYGe/e3oqVcqmIfewHyfDTABCxJ0adjoB1n38taxemQAn5gF4zHVIIVgvngXgeHYkcQgMEXdq2OkEWI/yXso+O50A6+LfvzwBTg+Bu9K8DJk4K8vjvEYmQIi4T8MeHi8mwId6wtIEODGbAFOFUtGehp9kVpb06cdj/TgRgBBxp4a9WAM87nfP3eWra4DVsPz19zUQgDXUHnev3cWzk+OHfarPULq7lUwAsil3atjpGmBVD/auToBVt0h4H/cKwCpHXT0B/NyX4XzKy1fup8C7lUwAsil3atjpBNh5rC8ESRNgHXCSYQKcrW/dxZ0DMEVdOsjtaja8GuSyLK9pCiyheLeSCUA25T4NO1sDzKPfy/AarytPhL7bgtbEvQJwPAny3FfhVMPtWllSBNbfGXcqmQBkU+7UsBdrgC/9atXzZNlrOAv87wbgUIy8xjfoind1ynsoz4gWgBBxp4a9fB7gvg4706X95/K5f/kQeAjA4Wg4q2W5FnLl2UQOgSHiTg17+TzAfmmrX+rKHsun/uUJcDgEPo1Z+LJ7yyW6HnLlSNkECBH3adgrzwMcDoL3w76bdvTuf4fA+VUg40s9HsrH18tSJmkBCBF3atiLNcBh9SodA+8e8/798Ny/l5ND4PzLYJJo792F6WLB8e1Pdxo9v6nOx9PhXyAA2ZQ7NeyVd4NJH/WL+716Pnj8xP2eCX2vAKzF6V8nU5RlgrEsL/kz1VtdNej95ZIJQDblTg17ZQLMg00ZWw7P+b2N34blr3Fv7ta+7uJeAViLU98qp/eYPz8NwF/Hl+79oE8XvzP+cskEIJuiYWPUKUad2BQNG6NOMerEpmjYGHWKUSc2RcPGqFOMOrEpGjZGnWLUiU3RsDHqFKNObIqGjVGnGHViUzRsjDrFqBObomFj1ClGndgUDRujTjHqxKZo2Bh1ilEnNkXDxqhTjDqxKRo2Rp1i1IlN0bAx6hSjTmyKho1Rpxh1YlM0bIw6xagTm6JhY9QpRp3YFA0bo04x6sSmaNgYdYpRJzZFw8aoU4w6sSkaNkadYtSJTdGwMeoUo05sioaNUacYdWJTNGyMOsWoE5uiYWPUKUad2BQNG6NOMerEpmjYGHWKUSc2RcPGqFOMOrEpGjZGnWLUiU3RsDHqFKNObIqGjVGnGHViUzRsjDrFqBObomFj1ClGndgUDRujTjHqxKZo2Bh1ilEnNkXDxqhTjDqxKRo2Rp1i1IlN0bAx6hSjTmyKho1Rpxh1YlM0bIw6xagTm6JhY9QpRp3YFA0bo04x6sSmaNgYdYpRJzZFw8aoU4w6LdkB/191P+cDtUzA/1Hdz/nA/6VC/5Pt0LAx6hSjTksEYFM0bIw6xajTEgHYFA0bo04x6rREADZFw8aoU4w6LRGATdGwMeoUo05LBGBTNGyMOsWo0xIB2BQNG6NOMeq0RAA2RcPGqFOMOi0RgE3RsDHqFKNOSwRgUzRsjDrFqNMSAdgUDRujTjHqtEQANkXDxqhTjDotEYBN0bAx6hSjTksEYFM0bIw6xajTEgHYFA0bo04x6rREADZFw8aoU4w6LRGATdGwMeoUo05LBGBTNGyMOsWo0xIB2BQNG6NOMeq0RAA2RcPGqFOMOi0RgE3RsDHqFKNOSwRgUzRsjDrFqNMSAdgUDRujTjHqtEQANkXDxqhTjDotEYBN0bAx6hSjTksEYFM0bIw6xajTEgHYFA0bo04x6rREADZFw8aoU4w6LRGATdGwMeoUo05LBGBTNGyMOsWo0xIB2BQNG6NOMeq0RAA2RcPGqFOMOi0RgE3RsDHqFKNOSwRgU+69Ga+7iffh8uPvh3qFRrT0cI81e/r16ykVq34+Oe3+1I/uRAAuEYBNaSoAT9PLd96TzzQbgMf03+/6BQG4AQKwKW1sxuPuUD963b3k/46nbu9uR1sB2NWoSBPgbqjer3cB2DoB2JQ2NmO/HwOwjjOnfEDcjrYCcBz50gT4/pJH58IE2DwB2JQ2NuNiAvz16890aev+2grA2QR4SuXrY08ANk8ANqWNzZhOgHXnPu6Gz7Wg2QBME2A+DK61EoDNE4BNaWMzphNgPbwbd+omtBWAk0PgPAH+Gg6CBWDzBGBTmtiMw+PlBPi6eysftKGtADybANMIXYNPADZPADaljc24XAM87Kd7+f01G4DdBDjMywKweQKwKW1sxsVZ4OOurQGwsQCscvSVCbA/CBaAzROATWljM6YTYNXUOeBGAzBHX5kA+4NgzwNsngBsShObMVsD7JyO9XIr2grA+fMAu//LQbAJsHkCsCltbMaV5wE2pq0AvFgDTLqD4NPutVy6FwG4RAA2pY3NuPJKkMY0G4D9BFgOgk2AzROATWljM0yAX3H5PMD60e5gDbB5ArApTWzGtecBNqatALw6AeaDYBNg8wRgU9rYjCuvBGlMswE4ToC5jG/WAFsnAJvSxmZceS1wY9oKwCtngbN0EGwCbJ0AnBjf2jJJjdxffq/vh/wy6efX0unjt6zS6m08HNYAv+LDCTD1iwBsnQCcmAVgauTzdHueBWDX6f/LAGyfOsWo0xIBeOFi/nno3w/5ygT4Z/ob/3YaNkadYtRpiQC8cOVZcPWtAOYTYD0EHtd8VqBhY9QpRp2WCMALV1bA6vshzyfAeghsArwDdYpRpyUC8MKVc6D13fBMgK1Qpxh1WiIAL1x5Flx9d6PpBFgX/0yAd6FOMeq0RACeu/I6iId6jtcE2Ap1ilGnJQLwwsUa4HG/e+4uX10DrNZ5wzwNG6NOMeq0RABemK4BVvVI+OoEWK3zjskaNkadYtRpiQC8MJ0AO4/1hSBpAhxf2uks8D2pU4w6LRGA52ZrgHn0e6lPgz4/BLYGeD/qFKNOSwTghYs1wJd+ge+5f1pMMpwFFoB38PN1Gp4CtWn6aYkAvHD5PMB9XQScvu7tuXzu3z0EPk+Iv5oY/88AXP8+BeASAXjh8nmAT/UguP9zr9lj+VRjE+DT7jS+PUPy5XTulz1f+nXPD50mxcjOL587rrl3r/BwP+1TccZi1VWOQTyMjqlc45bf8mdA1i+hAFwiAM9dez/k/iB4P8TdSz3t21YAHvZvk306+fIPN373uNx5Xf/b4Xct1/Cs8Y9Mz6HfaoWHO5VqurmXAbiwOYMUgJPrfudNoH+uhAJwiQC8cLEG+OvXQ/kzr+kYePeY95SH5z4g2joEHs/SjBvxNXWTj2kYif0pzFSa6D09TgalG93+cJcs+XjOi0+A+X1Pxxp8IwB/sIQCcIkAvHDl3WDSR6VHLwak8ROrPBP6ts14GCe+cSO+ZtjkU3B6THtv/WhRfKhadPPD/bDvNu/jHykegMfde32pZPa9AKwfLfpqCQXgEgF44coEmP/Gf2nxw/NbCru3oQ3HAHz7XuLM3bYZL+OB3I0TYP4gtkFp711cLuztV6lRdvPDXUu1zgR46v4GZvGNNcAfLKEAXCIAm3LTZjxMXo7ST4D5mTu/d+mfw75Px2M/rjyl49zd+3zxa9jv6wmfh5fHHO79lfKx/+6t29m7a/b5332Y/nkeRqG6NlDu48qfFLjNrQ93X6pZzOXj/uGH7WetyRafbU0v/xmQ8fTYMAHOr1svHeuBwvFt33/1R0soAJcIwKbctBnTvbmfAF92Ly9l76qnrdMOVfewfs+bJeBwjFV26bzA3ynHw/235Nu+GoDnQdB/vawnPk1+wNvc+nD3pZoeUnZreVm3BfUa0y0+25peV8/hILgPwPl1+0u/y1w9lDXFWv+lHymhAFwiAJty02Y8j1k2nMp+3r3vyx45mQC7NEs7Ydr5D6f5q5j7ZEgfpM+n6zynffSQMjR/ur4rzsN7vu16zWEBq2RJv/8/7PIPUO7jYbiP7szrGm59uPvFgmFzk2M3ZaVJuYuy8pXZFl+vWK1nfxBcCzDf8lzH8l+93N9V90j8YAkF4BIB2JSbNuN9cuJjnADr7nQxAY577HTRqk+EtHOmD+qfAuh2w3R7s+f81OEp7b3lnsp39s8VL5fO7+M9vtj1uVsf7tPsh555KlFTvjLb4usVq/XsB7caX/Pr9nU8PM5WVp/KAfEPllAALhGATbllM/KTAAfjGmD/ybMJsM6BQx5WNdb+dKPKcfjmsl/PnvNTs+Ns700jU3c3p/zfxX1MZtTb3Ppw96Xqjy+nG1Y2qBRiGoAfVKz/fD0ILgE4v+5Yx/rW4r3yKP1gCQXgEgHYlNsCcLJfjhNg/8mzCXBYTX+YnVgcEiHvqC8l47JuLEl76rCqX/fW9LkatfXye/dfGaOG+zjsy9r/amdBbny4H/pSDZtbYub4+p5P8ucNqmE02eJJxWZPeeqjqcxq792kNt/yWpok1aUWe3JXP1hCAbhEADblls2oT23rDGuAL2WiS4bnWpShojvjWUyHkpoIp24vm7zwoHxTyoPd459+bz0/BO4ul/22fOfFfbx+ae/9xM0BWEs1RlP6ZA6krCtd/cpkiz+o2DCklYPgMgHOrzvWsc6C87v6wRIKwCUCsCm3BWA/7CX9BDi+gc1jf/KyTCzTPatctTNNhOm00Y85r/npG91qVL3mYX78loM23U+5+4v7aCcAhwmw//2Qf+bd8/Hhof7sw1eGLf6gYkNpUrnSBxcBmAa3sY5P5WXD3V099Xf1gyUUgEsEYFNuCsB+uSjrj6qGo9jDcAhc1rU+OJSaJsIkPSefPzyXNaphRJofv6Ub/t0PRRf3MRkpb3NzAF5OgP1yX5rHysXhK3WLPzr4HJbpuoPgEoDz6451LBPg5K5y7crp3mT9EgrAJQKwKTdtxuNkaaqfAMdlvPd+zynLgpMdfGr26XqWMiv7dVFOU9ZrTo7fynfmZa6PXmcxeanKbW59uPtSTX7CPmrq6dzZz95t8cXWVMME2H1rKdT8uv153Xwn+Y77EKt3dTEBrldCAbhEADblps3oZ7Hk0H9c37aw+6iMHcey4t+fazwz3+H6N0LM3zTcdrpOvoE6E9aBabics/KpnmS9uI/+2Sc3u/XhHsfWvjxDKqWDzvy12SjcbfEHFZtMgCmd3ksAzq+balRuO5UxV6bP2lO/Bnj+06xWQgG4RAA25abNeJ/sK5cTYBo38tN5j/u3Mo+8lJWtw/E03aNm+31+Nkx+qVx+InTeZf90r5uru3MflY/1/yE6X3dvdQe/uI+vPYv3E7c+3H2pJnn/2m3j4e2xxFH5ymyLr1dsMgHmYtRtn183Xfqd/n9Ntc8reeWuHk6PdfTrnya4fgkF4BIB2JSbNmO6Pn45AeZdqVtL7yeWYX29XLOYJEI2PE2ku+X+UvdHQvtr5tfK5g+H70xxMdzk/D4ms9KNbn24+1JNNzef7Mg/aX8SJH9ltsXXKzbbqjTi1VueX7deeq9ngYe7Ko9S98j8SAkF4BIB2JSbNmN6GvhyAkw7T37yxe9xYukuP47P7MumiZAdntO++JhfD5e95u8oT5EZr5l335Sy43dO30lrdh8fnUb4ulsf7r5Us4H3JW1q+klLKtXNmW7x9YrNJsBcjDywJfPr5tt5fB2u29/V8Cj9UAkF4BIB2JTbNmO1JbYf0i/23+7mh/tOperP/37bF0soAJcIwKbcthnrvdvKj5ivL97k5of7TqWankz/jq+WUAAuEYBNuXEzTnXlr03rDYArPNx3KdXsZPp3fLWEAnCJAGzKjZsxW45qzWovA0luf7j/aqlOv/PJ5Hwy/bYZ+MslFIBLBGBTbt2MNUNmZcMbUa9hhYf7b5ZqOJNbziZ/19dLKACXCMCmaNiYjdXp0J1MPj99/BfopyUCsCkaNkadYtRpiQBsioaNUacYdVoiAJuiYWPUKUadlgjApmjYGHWKUaclArApGjZGnWLUaYkAbIqGjVGnGHVaIgCbomFj1ClGnZYIwKZo2Bh1ilGnJQKwKRo2Rp1i1GmJAGyKho1Rpxh1WiIAm6JhY9QpRp2WCMCmaNgYdYpRpyUCsCkaNkadYtRpiQBsioaNUacYdVoiAJuiYWPUKUadlgjApmjYGHWKUaclArApGjZGnWLUaYkAbIqGjVGnGHVaclOFPvjbgt2nA38A8GHf/Zn8K56+/OdTBeA/RZ1i1GnJlys0/vX6nFNX/8hV9+mLAHzYl78LU+S/7nfYvdU/8vdaP5vlm//6n+wSgP8UdYpRpyXfCMAx9I59GD7V8MqeyqcvA7B+veg+M0yA0wDMN380AfIZdYpRpyVfrtB8ArwagN2n368fAk+/PQXgMAGOn81MgHxKnWLUacmXK/QyGc6Os0PgIcWuHwIX0wHyYTdOgNMbMgGyQJ1i1GnJlyu0L+t3nflJkCHFPjsJcto91o9+/TqYAM9p2Bh1ilGnJV+t0NPubZzWhjXAzpBi19cAO/lMSP58PSEyToDzADx2X51/7nMC8J+iTjHqtOSrFXrcHU6713rhfAKslz6ZAF9SfuYJsg/AYQKcHwKXNUUByAfUKUadlnyxQm8p1g5DNM3XAF/6S92nrwZgmuwO78PcNz0LPA87a4B8Sp1i1GnJlyp0eNs95//2u8enfHk+AZ7ywt2pn92unQV+2udP9t89ex7gPACtAfIpdYpRpyVfqdDvfZd/KblSzOXEmq8B7vNoNwTglQkwzX/5+vm7u9u5/jzA/H0mQD6lTjHqtOQLFaqp13ntJrTZBJjX7cpkV58G068UVml87I+R6y1Nnwc4kQLQBMin1ClGnZZ8pUKnkm+j2Rrg8+655uH1s8DPk/z80+Xb+DzAc9+ZAIELdf/gA6tVKI1zD/vyFMFuMLxcA3w/1g964/MAz31nAgQu1P2DD3y1QrN3NJjMdGnA+/PrpYTex2eB5z6eAL/uf/JIa9gYdYpRpyVrBeBTfoVHHQHr8wDP1gB7x/e3/J2P7/OAPI0vMLEGyAJ1ilGnJTdVaHw7rMN+95D+e+mC65NXgqSvTUyvcdpPAtBZYD6lTjHqtOTGAOwnwPf6UfdEvw/WALOUf4/HHJW/DsfTLAHfTYCJho1Rpxh1WvLVCl0/BD71E1s6CP7z2Rrgfnre+HXyvgrp+jMmQD6hTjHqtOSrFXqsAVXVADwOZzOeng9lAry6BviwH98LJnmvTxzMzgLQBMgn1ClGnZZ8sUKH/XSp7gMfrwGOr/3onKYBOL1hfxOET6lTjDot+WqFHqdLdR/4ZA1w38+M2ewQ2BpgpmFj1ClGnZZ8tUKxCfDDNcCnyUmQt9lJkNP0B3EWmE+pU4w6Lflqhc7WAD9IuY/WAFO0Tc+iTF8a8l4/V5kA+YQ6xajTki9W6BAJwM+eB5i++lyfCD1/ZZyzwJmGjVGnGHVa8mMV+uCvwv0UAfhPUacYdVryf6mQAPynqFOMOi0RgE3RsDHqFKNOSwRgUzRsjDrFqNMSAdgUDRujTjHqtEQANkXDxqhTjDotEYBN0bAx6hSjTksEYFM0bIw6xajTEgHYFA0bo04x6rREADZFw8aoU4w6LRGATdGwMeoUo05LBGBTNGyMOsWo0xIB2BQNG6NOMeq0RAA2RcPGqFOMOi0RgE3RsDHqFKNOSwRgUxrYjNf6joy7/Adb6oXH38vvA/5X2bFj1GmJAGxKowGY/NV3d1xkx45RpyUCsClNBODs71Z1F/IfsR//gF8DWnq4x18SyXv3d28mf/vww3dG/ysE4BIB2JQmAnD2t+vrhdOX/0rLj2o2AFOVUgBOfocIwLYJwKY0EYCXE+CvX3+mU839tfdw74ef6JiDcFgzFYBtE4BNaTYA01jT0nmQ9h7u8Q9mP+1OL+O8/Jf/Ns4ZAbhEADaliQC8dgicxhoB+JnxD2bnP2q9H2LPBNg2AdiUJgLw2gT46hD4c7MJcDIwC8C2CcCmtBqAD/vpXHh/7T3c8wnw10v/l60FYNsEYFOaCMAqL2PVADzud28tHQE3+HDPJ8B8UqQEnwBsmwBsSksBmEeY4UJTB8ANPtyHx/kEOBwEC8C2CcCmNBGAs0PgEn/33Imvae/hPp8A00Fw99/77jX/dycCcIkAbEoTAXjtLHBj2nu4z9YAk3IQbAJsmwBsShMBeOUkSGvae7gvJsB6ECwA2yYAmyIAY5p7uA+XE2A5CBaAbROATWkiAB0Cf8PlBFgOgq0Btk0ANqWJADQBfsOVCbA7CDYBtk0ANkUAxrT3cF+bAPPToQVg2wRgU5oIQIfAX3fxPMBiv3sTgE0TgE3RsDHt1enqBJgPgq0BNk0AzoxvblneADk18PhOyK+TX+3J4fUxX/H9IV8Yv/GmX/gaNqa9Ol1bA0xe7vvHBPTTEgE4cx6AqX/HY8DXya/2yVUfZ5cE4N+gTjHqtEQAzpwt+j/sTvvh0CZ9cfKrPSXec/7K4fW5XJxNh9+lYWPUKUadlgjAmbNF/3Rx8o6+f6YT4PiWl535dPhtGjZGnWLUaYkAnDmbAPe7p6fxjVCmU97DZDLMTIB/lTrFqNMSATgzD8CnnGopBOvF6ZSXAnD2dyJNgH+VOsWo0xIBODM/BH7Oh7kvQybOprz9fOQzAf5V6hSjTksE4MxsAjx0h7n9O1ueTXnp04+TVcDZ+uD3adgYdYpRpyUCcGYWgHWqG053zKe8dBC8ezzWC+lrVfekmG/TsDHqFKNOSwTgzJBjeZ6rL+N86UPtfMp7zRE4hGN123vHa9gYdYpRpyUCcGbIsTTr9X8KN/1fzndcrvPlq5fPtb8GeHaCe9vs2DHqtEQAzkxTYvjLhu918rt2pjdNgd0n2z8L/BMBeH6bfy1k7dgx6rREAM5MzgI/lFGwU17neXXKeyhLhA1MgN1rUIcRdv4snST+xi71Nh5/d69y/sxpOEFUnF8+d1wrIO3YMeq0RADOTEaYMUqS7rPXp7zy178amAD3efnxswCMhs94G0tvZNKH6mt9J4DFkH2Zv37m2/5/O/bPDM8CcIkAnJm04WncmV/KqY3rU95z99n7T4DdkxY/2Y++EoDdNY9vlyl6XRqWPx38Jva3nSXvrfRwH3en2e+5L/8SO85O+9/y5qc/MzwLwCUCcGYcYaZvhFVf9nH9uX6PXWfefQJ82HcJ/PEM9pUArLfRL34uOX9d4Cf+fGs/vrDSw52G5tsCML/f37hBp2+89984PC8U5uU7bywoAJcIwJmxDctgV526XWM65R3f/nQrZE/pN3f+/+4T4EvJ64/3o8XD08FwG6/BJ/U8jG+Gt+TQHajfbJ2HuwzN2f6bt5cmwMnk9o0J8CvD8zcq93/ZvX/O/6VCK23HsO/XcxtVeTXIOCy8dL/6i8caPL3HaENf8+3NeKjHlrMAPKZ03u3eyyTbf+XwnD73VjfuIV+jXmEw3EbZ7F+Hl/zOr2/9tSY30F2z3/Tuw/TP8zBI1bF4diffGmQurPJw16E5G9/P+WuedqeyBtz5TgDGh+fZQxskAJcIwJlhTDobfvb589MA/HV8ecsfneprQcav3TThfHsz+h98Oud140nSn8Pu9p/+B62fK+YJONxGCcA/9Up1xp3ewNUArLGZlECY38lT+TFutMrD/Txud3yEnctn3sdfld8KwPg979++/EMKwCUCsCnf3ox6BFwiqHrqpq7DYxlRylcO5S2rH97zvpQSMkXd4X0337OG2+h+C6Q8y+/6f3gpq13pmG28gXrNYYwp0dnnQPl0vZNTfyePa5wGWePhfpgcU/YT4HPaoBTYaauGd/s59hPetWk5//2PaeDX6TYvjIxXrZeO9eBgMpef/+5YGp6/nK8CcIkAbMq3N+M0RFAXSVP1HQ1LOM3WKvvZ5Wxy6W8jBdjv/I4QdR5MSZbuY3YDdVZMV+wu1u/sTwiVr57fyembw9bMGg/3tFT9HPaye8kH+OkLkwCcT76zBOy+OBwE95s4v2p/6Xd5HPq5vBSzSPfX/TSfD8/fOBEsAJcIwKZ8ezP6aabfZYZRIinz2TycsuHPl03/jllSk+G4z0/xeBqf59HtlLNT4fWa5W1zhsvpYrfHnvJ/F3fSz6o3WePhnv4g/QT4snvflxB77L9af+7zQbYoXzzL+PlV06WcoKma5fJ8Lv/S8Pz1Y2ABuEQANuW7mzGs5w8BWC4fX9/f6iJgCae0Z5U/Y5cMJ0Ef5guXw23kz750O2anC890CPw8vEKkBuBDXWZMl7srl6dQHrvvH++kZvR46vUGazzcp/E2hr/qm8a/+tOdTYAp1MsX+ogqyhf7wa18bX7VYYJOH0yrXOfyHx6eBeASAdiU7wdg2XH6SOocutM02RiAeT/c7f90O9J7/WoyGy1qAJ66vW6SV90bZE9vYHKbs8tpakyXy5JVt+BVlDv5M97g963xcE/nqXEC7OfdswmwbPtwsVcv1YPgElTzq44T9J95lUvNzkqXLnZ3u9bwLACXCMCmfDsA+52uzmCdlFTPx4eHusA1fCW/i9dFNpUvFdMQrTHW6U8HdAHZfbbe5tkYk+55n/bUsmtf3MlrIwE4eRJM/oFLDA1vgJEOUWvYlCHvYpAt+gXCMquVAJwP1uMDUibi7qNuLu/K88PDswBcIgCb8t3NOFyZAPvTFXWZafKV/Ey+4yzbZqYhmq40ucH+8/kGcj7U26z3MF4jf1PNhos7eV7jiYCrBGAtWTZOgP3Wnk2Ak2l5+kTPfjYrB8Hv3abNB+tx+8tcPM7lXfL98PAsAJcIwKZ8ezPGkyBDXvXzwnG6Blh14Tj7zMTs8+PcUgecoixW1WtOArB8Z/6m+iy7iztp5STIMDQnh34CfB4yfr+rK50lyD+YlvsJMG1Vqkcp0Pyq49RWKplXEMpc3tVsMgGWOq07PAvAJQKwKd/ejH6EmUxv/eyR9qP8tVkSlfMZw0L/3Dyz9v2l8TkaSRkv6zXPx5h8n0+PZae9uJP3ya182xoBOD0EvjYBDk9xz1H/wbQ8LNN1B8ElAOdXHW/xqZvj/tTIrM+AnpTuJ4ZnAbhEADbl25vRrZonk/B67RbqHt7eygpd2cNeuydhpFQqu2r33+F4mmXSJESTdDP5vPFDvfJrdxK53kB/zf5M5/Cdr7u37grJ2Z2s82LgNR7u6Q8yToB9+YZxt3+3n6GuU8ME2P16KN8zv2p/XjffUL7DcS7vkm94JUj/XesOzwJwiQBsyrc3oz86mu40+WRHcijjTflK/xSX5+4aw0FW2Qmrsx2v/5ZyD7Mb6K+ZQm58Nm+WD/T625zfyTgz3WKNh7uf+rLLCbB/dnMKtvzBB9PyZGvSN7x3JZpftf6q6G4oT4DjXN4lX/pyueehdKsOzwJwiQBsyrc3o1/Sn01vLymG0sBWhoy6h73mNfi3/q/Z5ff82z2OT+zrnAXgr8Nzup3H57rzTW9guGZOwPTh+J2nYTQ6u5MPjiW/aI2Hux+ak8nzAPvypQktZ/yf/Vt/PNr94GfT8jgB5t83deqdXzVd+p3+/51uKOdaP5c/1jPnPzs8C8AlArAp39+MVZbW/oJ+4rnNGg/39JTC5QSY0yd76zPu6rQ8nWfTiFfX6OZXrZfe08Ftvlzm8n2dy8vdTH93rDo8C8AlArAp39+M43T0a9d8ffHb1ni4p6eB+5W4SQD+OuY3AfudCltj59q0PJ0A+4EtmV81z8yPf4brzubykoDTAEypN97mrcOzAFwiAJtyw2b0b4fQtnUGwHUe7r88NI+nQ77pG7UTgEsEYFNu2Ix1zi78sFVeBpKs8nCv89aEYdOnUX7Hd4ZnAbhEADblls1YK1x+0OyI8RbrPNx/dQSsz3v5vu8MzwJwiQBsioaNWadOw/LeTzr9zieb8/vJ3rb6+a3fb/ppiQBsioaNWalOf2NoHl4aXJ56+V3fG5710xIB2BQNG7OhOj10T5w8f67lX6KflgjApmjYGHWKUaclArApGjZGnWLUaYkAbIqGjVGnGHVaIgCbomFj1ClGnZYIwKZo2Bh1ilGnJQKwKRo2Rp1i1GmJAGyKho1Rpxh1WiIAm6JhY9QpRp2WCMCmaNgYdYpRpyUCsCkaNkadYtRpiQBsioaNUacYdVoiAJuiYWPUKUadlgjApmjYGHWKUaclArApGjZGnWLUaYkAbIqGjVGnGHVaIgCbomFj1ClGnZYIwKZo2Bh1ilGnJQKwKRo2Rp1i1GmJAGyKho1Rpxh1WiIAm6JhY9QpRp2WCMCmaNgYdYpRpyUCsCkaNkadYtRpiQBsioaNUacYdVoiAJuiYWPUKUadlgjApmjYGHWKUaclArApGjZGnWLUaYkAbIqGjVGnGHVaIgCbomFj1ClGnZYIwKZo2Bh1ilGnJQKwKRo2Rp1i1GmJAGyKho1Rpxh1WrID/r/qfs4HapmA/6O6nwMAAAAAAAAAAAAAAAAAAAAAAAAAAAAAAAAAAAAAAAAAAAAAAAAAAAAAAAAAAAAAAAAAAAAAAAAAAAAAAAAAAAAAAAAAAAAAAAAAAAAAAAAAAAAAAAAAAAAAAAAAAAAAAAAAAAAAAAAAAAAAAAAAAAAAAAAAAAAAAAAAAAAAAAAAAAAAAAAAAAAAAAAAAAAAAAAAAAAAAAAAAAAAAAAAAAAAAAAAAAAAAAAAAAAAAAAAAAAAAAAAAAAAAAAAAAAAAAAAAAAAAAAAAADwv/Pr138fV7EYzR+dPQAAAABJRU5ErkJggg==)"
      ],
      "metadata": {
        "id": "XAaEE2uy7zcI"
      }
    },
    {
      "cell_type": "markdown",
      "source": [
        "#**2. Dataset 불러오기**"
      ],
      "metadata": {
        "id": "tYRGAuKF_zWy"
      }
    },
    {
      "cell_type": "code",
      "source": [
        "with open(r\"CNC 전력데이터.pickle\", \"rb\") as file :\n",
        "  data=pickle.load(file)"
      ],
      "metadata": {
        "id": "pjaBCe6O7Q7X"
      },
      "execution_count": 4,
      "outputs": []
    },
    {
      "cell_type": "markdown",
      "source": [
        "##**2.1 Dataset 확인**"
      ],
      "metadata": {
        "id": "nSKshMirMFFB"
      }
    },
    {
      "cell_type": "markdown",
      "source": [
        "        <원본Data 설명>\n",
        "\n",
        "* 전력 : 설비 n초 전력 데이터(단위 : W)\n",
        "* 이상유무 : 설비 이상 데이터(0 == 정상, 1 == 이상)"
      ],
      "metadata": {
        "id": "lW3wK6-NMbKa"
      }
    },
    {
      "cell_type": "code",
      "source": [
        "data"
      ],
      "metadata": {
        "colab": {
          "base_uri": "https://localhost:8080/",
          "height": 424
        },
        "id": "pdMavN3cHT3P",
        "outputId": "7ba95ac7-32fb-4d87-a20b-642087d4de80"
      },
      "execution_count": 5,
      "outputs": [
        {
          "output_type": "execute_result",
          "data": {
            "text/html": [
              "<div>\n",
              "<style scoped>\n",
              "    .dataframe tbody tr th:only-of-type {\n",
              "        vertical-align: middle;\n",
              "    }\n",
              "\n",
              "    .dataframe tbody tr th {\n",
              "        vertical-align: top;\n",
              "    }\n",
              "\n",
              "    .dataframe thead th {\n",
              "        text-align: right;\n",
              "    }\n",
              "</style>\n",
              "<table border=\"1\" class=\"dataframe\">\n",
              "  <thead>\n",
              "    <tr style=\"text-align: right;\">\n",
              "      <th></th>\n",
              "      <th>전력</th>\n",
              "      <th>이상유무</th>\n",
              "    </tr>\n",
              "  </thead>\n",
              "  <tbody>\n",
              "    <tr>\n",
              "      <th>0</th>\n",
              "      <td>[[941.6], [936.5], [945.8], [943.5], [943.4], ...</td>\n",
              "      <td>0</td>\n",
              "    </tr>\n",
              "    <tr>\n",
              "      <th>1</th>\n",
              "      <td>[[1213.5907758279886], [895.6825214985843], [8...</td>\n",
              "      <td>0</td>\n",
              "    </tr>\n",
              "    <tr>\n",
              "      <th>2</th>\n",
              "      <td>[[1655.369605158024], [482.32373237111756], [9...</td>\n",
              "      <td>0</td>\n",
              "    </tr>\n",
              "    <tr>\n",
              "      <th>3</th>\n",
              "      <td>[[834.3210897281627], [1348.5836322439784], [8...</td>\n",
              "      <td>0</td>\n",
              "    </tr>\n",
              "    <tr>\n",
              "      <th>4</th>\n",
              "      <td>[[782.6570893584785], [957.8441142157403], [66...</td>\n",
              "      <td>0</td>\n",
              "    </tr>\n",
              "    <tr>\n",
              "      <th>...</th>\n",
              "      <td>...</td>\n",
              "      <td>...</td>\n",
              "    </tr>\n",
              "    <tr>\n",
              "      <th>72</th>\n",
              "      <td>[[525.5982213140919], [791.1392589308402], [76...</td>\n",
              "      <td>0</td>\n",
              "    </tr>\n",
              "    <tr>\n",
              "      <th>73</th>\n",
              "      <td>[[980.4087117104609], [652.8741639559621], [68...</td>\n",
              "      <td>0</td>\n",
              "    </tr>\n",
              "    <tr>\n",
              "      <th>74</th>\n",
              "      <td>[[740.8821917023505], [1237.6363979493733], [6...</td>\n",
              "      <td>0</td>\n",
              "    </tr>\n",
              "    <tr>\n",
              "      <th>75</th>\n",
              "      <td>[[606.5935531127286], [837.317578919659], [104...</td>\n",
              "      <td>0</td>\n",
              "    </tr>\n",
              "    <tr>\n",
              "      <th>76</th>\n",
              "      <td>[[933.8021997046499], [889.9448809829888], [10...</td>\n",
              "      <td>0</td>\n",
              "    </tr>\n",
              "  </tbody>\n",
              "</table>\n",
              "<p>77 rows × 2 columns</p>\n",
              "</div>"
            ],
            "text/plain": [
              "                                                   전력  이상유무\n",
              "0   [[941.6], [936.5], [945.8], [943.5], [943.4], ...     0\n",
              "1   [[1213.5907758279886], [895.6825214985843], [8...     0\n",
              "2   [[1655.369605158024], [482.32373237111756], [9...     0\n",
              "3   [[834.3210897281627], [1348.5836322439784], [8...     0\n",
              "4   [[782.6570893584785], [957.8441142157403], [66...     0\n",
              "..                                                ...   ...\n",
              "72  [[525.5982213140919], [791.1392589308402], [76...     0\n",
              "73  [[980.4087117104609], [652.8741639559621], [68...     0\n",
              "74  [[740.8821917023505], [1237.6363979493733], [6...     0\n",
              "75  [[606.5935531127286], [837.317578919659], [104...     0\n",
              "76  [[933.8021997046499], [889.9448809829888], [10...     0\n",
              "\n",
              "[77 rows x 2 columns]"
            ]
          },
          "metadata": {},
          "execution_count": 5
        }
      ]
    },
    {
      "cell_type": "code",
      "source": [
        "data.info()"
      ],
      "metadata": {
        "colab": {
          "base_uri": "https://localhost:8080/"
        },
        "id": "dUoq5CoZNpIj",
        "outputId": "47c9a257-e9e8-4157-beb1-669a87155d75"
      },
      "execution_count": 6,
      "outputs": [
        {
          "output_type": "stream",
          "name": "stdout",
          "text": [
            "<class 'pandas.core.frame.DataFrame'>\n",
            "RangeIndex: 77 entries, 0 to 76\n",
            "Data columns (total 2 columns):\n",
            " #   Column  Non-Null Count  Dtype \n",
            "---  ------  --------------  ----- \n",
            " 0   전력      77 non-null     object\n",
            " 1   이상유무    77 non-null     int64 \n",
            "dtypes: int64(1), object(1)\n",
            "memory usage: 1.3+ KB\n"
          ]
        }
      ]
    },
    {
      "cell_type": "markdown",
      "source": [
        "#**3. Data 전처리**"
      ],
      "metadata": {
        "id": "_eaSNFKvOQP6"
      }
    },
    {
      "cell_type": "code",
      "source": [
        "#이상유무 == 0(정상데이터)인 데이터를 'normal' 변수에 할당.\n",
        "\n",
        "normal = data[data['이상유무']==0]\n",
        "normal"
      ],
      "metadata": {
        "colab": {
          "base_uri": "https://localhost:8080/",
          "height": 424
        },
        "id": "3S67pGY0OHgx",
        "outputId": "53def3e5-7a3b-49ad-9110-50e93fa1578d"
      },
      "execution_count": 7,
      "outputs": [
        {
          "output_type": "execute_result",
          "data": {
            "text/html": [
              "<div>\n",
              "<style scoped>\n",
              "    .dataframe tbody tr th:only-of-type {\n",
              "        vertical-align: middle;\n",
              "    }\n",
              "\n",
              "    .dataframe tbody tr th {\n",
              "        vertical-align: top;\n",
              "    }\n",
              "\n",
              "    .dataframe thead th {\n",
              "        text-align: right;\n",
              "    }\n",
              "</style>\n",
              "<table border=\"1\" class=\"dataframe\">\n",
              "  <thead>\n",
              "    <tr style=\"text-align: right;\">\n",
              "      <th></th>\n",
              "      <th>전력</th>\n",
              "      <th>이상유무</th>\n",
              "    </tr>\n",
              "  </thead>\n",
              "  <tbody>\n",
              "    <tr>\n",
              "      <th>0</th>\n",
              "      <td>[[941.6], [936.5], [945.8], [943.5], [943.4], ...</td>\n",
              "      <td>0</td>\n",
              "    </tr>\n",
              "    <tr>\n",
              "      <th>1</th>\n",
              "      <td>[[1213.5907758279886], [895.6825214985843], [8...</td>\n",
              "      <td>0</td>\n",
              "    </tr>\n",
              "    <tr>\n",
              "      <th>2</th>\n",
              "      <td>[[1655.369605158024], [482.32373237111756], [9...</td>\n",
              "      <td>0</td>\n",
              "    </tr>\n",
              "    <tr>\n",
              "      <th>3</th>\n",
              "      <td>[[834.3210897281627], [1348.5836322439784], [8...</td>\n",
              "      <td>0</td>\n",
              "    </tr>\n",
              "    <tr>\n",
              "      <th>4</th>\n",
              "      <td>[[782.6570893584785], [957.8441142157403], [66...</td>\n",
              "      <td>0</td>\n",
              "    </tr>\n",
              "    <tr>\n",
              "      <th>...</th>\n",
              "      <td>...</td>\n",
              "      <td>...</td>\n",
              "    </tr>\n",
              "    <tr>\n",
              "      <th>72</th>\n",
              "      <td>[[525.5982213140919], [791.1392589308402], [76...</td>\n",
              "      <td>0</td>\n",
              "    </tr>\n",
              "    <tr>\n",
              "      <th>73</th>\n",
              "      <td>[[980.4087117104609], [652.8741639559621], [68...</td>\n",
              "      <td>0</td>\n",
              "    </tr>\n",
              "    <tr>\n",
              "      <th>74</th>\n",
              "      <td>[[740.8821917023505], [1237.6363979493733], [6...</td>\n",
              "      <td>0</td>\n",
              "    </tr>\n",
              "    <tr>\n",
              "      <th>75</th>\n",
              "      <td>[[606.5935531127286], [837.317578919659], [104...</td>\n",
              "      <td>0</td>\n",
              "    </tr>\n",
              "    <tr>\n",
              "      <th>76</th>\n",
              "      <td>[[933.8021997046499], [889.9448809829888], [10...</td>\n",
              "      <td>0</td>\n",
              "    </tr>\n",
              "  </tbody>\n",
              "</table>\n",
              "<p>66 rows × 2 columns</p>\n",
              "</div>"
            ],
            "text/plain": [
              "                                                   전력  이상유무\n",
              "0   [[941.6], [936.5], [945.8], [943.5], [943.4], ...     0\n",
              "1   [[1213.5907758279886], [895.6825214985843], [8...     0\n",
              "2   [[1655.369605158024], [482.32373237111756], [9...     0\n",
              "3   [[834.3210897281627], [1348.5836322439784], [8...     0\n",
              "4   [[782.6570893584785], [957.8441142157403], [66...     0\n",
              "..                                                ...   ...\n",
              "72  [[525.5982213140919], [791.1392589308402], [76...     0\n",
              "73  [[980.4087117104609], [652.8741639559621], [68...     0\n",
              "74  [[740.8821917023505], [1237.6363979493733], [6...     0\n",
              "75  [[606.5935531127286], [837.317578919659], [104...     0\n",
              "76  [[933.8021997046499], [889.9448809829888], [10...     0\n",
              "\n",
              "[66 rows x 2 columns]"
            ]
          },
          "metadata": {},
          "execution_count": 7
        }
      ]
    },
    {
      "cell_type": "code",
      "source": [
        "#정상데이터 개수 확인.\n",
        "\n",
        "print(\"정상데이터 개수 : \", len(normal))"
      ],
      "metadata": {
        "colab": {
          "base_uri": "https://localhost:8080/"
        },
        "id": "lRC2WXk-Os9r",
        "outputId": "4a8f4441-6915-49cc-bd8f-a79881342f8c"
      },
      "execution_count": 8,
      "outputs": [
        {
          "output_type": "stream",
          "name": "stdout",
          "text": [
            "정상데이터 개수 :  66\n"
          ]
        }
      ]
    },
    {
      "cell_type": "code",
      "source": [
        "#동일한 방식으로 이상데이터도 새로운 변수(error)에 할당.\n",
        "\n",
        "error = data[data['이상유무']==1]\n",
        "error"
      ],
      "metadata": {
        "colab": {
          "base_uri": "https://localhost:8080/",
          "height": 394
        },
        "id": "QCjU86ocO6Oz",
        "outputId": "f6863ec5-4182-4aae-eccb-668f7b4486c3"
      },
      "execution_count": 9,
      "outputs": [
        {
          "output_type": "execute_result",
          "data": {
            "text/html": [
              "<div>\n",
              "<style scoped>\n",
              "    .dataframe tbody tr th:only-of-type {\n",
              "        vertical-align: middle;\n",
              "    }\n",
              "\n",
              "    .dataframe tbody tr th {\n",
              "        vertical-align: top;\n",
              "    }\n",
              "\n",
              "    .dataframe thead th {\n",
              "        text-align: right;\n",
              "    }\n",
              "</style>\n",
              "<table border=\"1\" class=\"dataframe\">\n",
              "  <thead>\n",
              "    <tr style=\"text-align: right;\">\n",
              "      <th></th>\n",
              "      <th>전력</th>\n",
              "      <th>이상유무</th>\n",
              "    </tr>\n",
              "  </thead>\n",
              "  <tbody>\n",
              "    <tr>\n",
              "      <th>33</th>\n",
              "      <td>[[992.8], [1000.6], [998.9], [1004.9], [1006.5...</td>\n",
              "      <td>1</td>\n",
              "    </tr>\n",
              "    <tr>\n",
              "      <th>34</th>\n",
              "      <td>[[967.6484823056769], [992.5058062529156], [11...</td>\n",
              "      <td>1</td>\n",
              "    </tr>\n",
              "    <tr>\n",
              "      <th>35</th>\n",
              "      <td>[[1366.9396228913834], [986.7802009299207], [1...</td>\n",
              "      <td>1</td>\n",
              "    </tr>\n",
              "    <tr>\n",
              "      <th>36</th>\n",
              "      <td>[[874.3131191181845], [755.2941176677846], [11...</td>\n",
              "      <td>1</td>\n",
              "    </tr>\n",
              "    <tr>\n",
              "      <th>37</th>\n",
              "      <td>[[941.050256908186], [1190.1426657679526], [12...</td>\n",
              "      <td>1</td>\n",
              "    </tr>\n",
              "    <tr>\n",
              "      <th>38</th>\n",
              "      <td>[[800.5866261209226], [1137.4610230715468], [8...</td>\n",
              "      <td>1</td>\n",
              "    </tr>\n",
              "    <tr>\n",
              "      <th>39</th>\n",
              "      <td>[[1239.4733219423133], [797.8270109165439], [1...</td>\n",
              "      <td>1</td>\n",
              "    </tr>\n",
              "    <tr>\n",
              "      <th>40</th>\n",
              "      <td>[[927.2770056804436], [1199.4925074397459], [1...</td>\n",
              "      <td>1</td>\n",
              "    </tr>\n",
              "    <tr>\n",
              "      <th>41</th>\n",
              "      <td>[[912.573158836126], [978.1136255473839], [120...</td>\n",
              "      <td>1</td>\n",
              "    </tr>\n",
              "    <tr>\n",
              "      <th>42</th>\n",
              "      <td>[[729.3672120934598], [871.0925333694704], [93...</td>\n",
              "      <td>1</td>\n",
              "    </tr>\n",
              "    <tr>\n",
              "      <th>43</th>\n",
              "      <td>[[1057.4222480767844], [1147.8209530887796], [...</td>\n",
              "      <td>1</td>\n",
              "    </tr>\n",
              "  </tbody>\n",
              "</table>\n",
              "</div>"
            ],
            "text/plain": [
              "                                                   전력  이상유무\n",
              "33  [[992.8], [1000.6], [998.9], [1004.9], [1006.5...     1\n",
              "34  [[967.6484823056769], [992.5058062529156], [11...     1\n",
              "35  [[1366.9396228913834], [986.7802009299207], [1...     1\n",
              "36  [[874.3131191181845], [755.2941176677846], [11...     1\n",
              "37  [[941.050256908186], [1190.1426657679526], [12...     1\n",
              "38  [[800.5866261209226], [1137.4610230715468], [8...     1\n",
              "39  [[1239.4733219423133], [797.8270109165439], [1...     1\n",
              "40  [[927.2770056804436], [1199.4925074397459], [1...     1\n",
              "41  [[912.573158836126], [978.1136255473839], [120...     1\n",
              "42  [[729.3672120934598], [871.0925333694704], [93...     1\n",
              "43  [[1057.4222480767844], [1147.8209530887796], [...     1"
            ]
          },
          "metadata": {},
          "execution_count": 9
        }
      ]
    },
    {
      "cell_type": "code",
      "source": [
        "#이상데이터 개수 확인.\n",
        "print(\"이상데이터 개수 : \", len(error))"
      ],
      "metadata": {
        "colab": {
          "base_uri": "https://localhost:8080/"
        },
        "id": "4b0MdbOyPIHk",
        "outputId": "e59f08d8-3096-44c8-e29e-5e1984013003"
      },
      "execution_count": 10,
      "outputs": [
        {
          "output_type": "stream",
          "name": "stdout",
          "text": [
            "이상데이터 개수 :  11\n"
          ]
        }
      ]
    },
    {
      "cell_type": "markdown",
      "source": [
        "##**3.1 데이터 시각화**"
      ],
      "metadata": {
        "id": "-yx-XXgSPTar"
      }
    },
    {
      "cell_type": "code",
      "source": [
        "#font_path=\"C:/Windows/Fonts/NGULIM.TTF\"\n",
        "#font_name = font_manager.FontProperties(fname=font_path).get_name()\n",
        "#rc('font',family=font_name)"
      ],
      "metadata": {
        "id": "bMisjtbQPQg3"
      },
      "execution_count": 64,
      "outputs": []
    },
    {
      "cell_type": "code",
      "source": [
        "#한글 폰트 정상 출력을 위한 처리.\n",
        "#셀 실행하고 '런타임 다시 시작' 후 다시 실행.\n",
        "\n",
        "%matplotlib inline  \n",
        "\n",
        "import matplotlib as mpl \n",
        "import matplotlib.pyplot as plt \n",
        "import matplotlib.font_manager as fm  \n",
        "\n",
        "!apt-get update -qq\n",
        "!apt-get install fonts-nanum* -qq\n",
        "\n",
        "path = '/usr/share/fonts/truetype/nanum/NanumBarunGothic.ttf' \n",
        "font_name = fm.FontProperties(fname=path, size=10).get_name()\n",
        "print(font_name)\n",
        "plt.rc('font', family=font_name)\n",
        "\n",
        "fm._rebuild()\n",
        "mpl.rcParams['axes.unicode_minus'] = False"
      ],
      "metadata": {
        "colab": {
          "base_uri": "https://localhost:8080/"
        },
        "id": "pFPRFDvV7X4M",
        "outputId": "da6d9710-ba04-4bf2-e29d-a52880425c35"
      },
      "execution_count": 11,
      "outputs": [
        {
          "output_type": "stream",
          "name": "stdout",
          "text": [
            "NanumBarunGothic\n"
          ]
        }
      ]
    },
    {
      "cell_type": "markdown",
      "source": [
        "  *또는, 밑의 코드를 세 개의 셀에서 실행.*\n",
        "\n",
        "    # 단계 1: 폰트 설치\n",
        "    import matplotlib.font_manager as fm\n",
        "\n",
        "    !apt-get -qq -y install fonts-nanum > /dev/null\n",
        "    fontpath = '/usr/share/fonts/truetype/nanum/NanumBarunGothic.ttf'\n",
        "    font = fm.FontProperties(fname=fontpath, size=9)\n",
        "    fm._rebuild()\n",
        "\n",
        "\n",
        "    # 단계 2: 런타임 재시작\n",
        "    import os\n",
        "    os.kill(os.getpid(), 9)\n",
        "\n",
        "\n",
        "    # 단계 3: 한글 폰트 설정\n",
        "    import matplotlib.pyplot as plt\n",
        "    import matplotlib as mpl\n",
        "    import matplotlib.font_manager as fm\n",
        "\n",
        "    # 마이너스 표시 문제\n",
        "    mpl.rcParams['axes.unicode_minus'] = False\n",
        "      \n",
        "    # 한글 폰트 설정\n",
        "    path = '/usr/share/fonts/truetype/nanum/NanumGothicBold.ttf'\n",
        "    font_name = fm.FontProperties(fname=path, size=18).get_name()\n",
        "    plt.rc('font', family=font_name)\n",
        "    fm._rebuild()"
      ],
      "metadata": {
        "id": "UUxbA0378DT2"
      }
    },
    {
      "cell_type": "code",
      "source": [
        "#정상전력데이터 시각화.\n",
        "\n",
        "plt.plot(normal['전력'].iloc[0], 'green', label = 'powe') # iloc[] ; 데이터프레임의 행이나 컬럼에 인덱스 값으로 접근.\n",
        "plt.xlabel(\"Time(초)\") # x축 레이블 지정\n",
        "plt.ylabel(\"Power\\m(전력)\") # y축 레이블 지정\n",
        "plt.title('Normal Pattern')\n",
        "plt.legend() #그래프에 범례(여기서는 'powe') 표시를 위한 명령어.\n",
        "'''\n",
        "plot()함수에서 label 문자열을 지정하고, \n",
        "legend()함수를 호출하면 되고, 위치 지정은 loc 파라미터로 가능.\n",
        "'''\n",
        "plt.show()"
      ],
      "metadata": {
        "colab": {
          "base_uri": "https://localhost:8080/",
          "height": 294
        },
        "id": "u7xtQ0h4WNeT",
        "outputId": "f0d90197-2548-43ed-e2ba-88c4529c86bc"
      },
      "execution_count": 12,
      "outputs": [
        {
          "output_type": "display_data",
          "data": {
            "image/png": "[encoded data removed]",
            "text/plain": [
              "<Figure size 432x288 with 1 Axes>"
            ]
          },
          "metadata": {
            "needs_background": "light"
          }
        }
      ]
    },
    {
      "cell_type": "code",
      "source": [
        "#이상전력데이터 시각화.\n",
        "\n",
        "plt.plot(error['전력'].iloc[0], 'red', label = 'powe')\n",
        "plt.xlabel(\"Time(초)\") # x축 레이블 지정\n",
        "plt.ylabel(\"Power\\m(전력)\") # y축 레이블 지정\n",
        "plt.title('Error Pattern')\n",
        "plt.legend()\n",
        "plt.show()"
      ],
      "metadata": {
        "colab": {
          "base_uri": "https://localhost:8080/",
          "height": 294
        },
        "id": "t5jqjwd_aG-N",
        "outputId": "dfee56d5-e613-43fd-e158-2fab569cb7f9"
      },
      "execution_count": 13,
      "outputs": [
        {
          "output_type": "display_data",
          "data": {
            "image/png": "[encoded data removed]",
            "text/plain": [
              "<Figure size 432x288 with 1 Axes>"
            ]
          },
          "metadata": {
            "needs_background": "light"
          }
        }
      ]
    },
    {
      "cell_type": "code",
      "source": [
        "#행별 길이 확인.\n",
        "#why? 모델링할 때 데이터의 길이가 동일해야 함.\n",
        "\n",
        "data_length = []\n",
        "\n",
        "for i in range(len(normal)) : \n",
        "  powe_length = len(normal['전력'].iloc[i]) # 결과 ; 모두 1897개임.\n",
        "  data_length.append(powe_length)\n",
        "\n",
        "normal['데이터 길이'] = data_length # 새로운 열에 할당."
      ],
      "metadata": {
        "id": "I280XpejduTE"
      },
      "execution_count": 14,
      "outputs": []
    },
    {
      "cell_type": "code",
      "source": [
        "# 데이터 길이의 종류 파악(집합 함수를 사용해 중복된 값 제거)\n",
        "\n",
        "print('데이터 길이 종류 : ', set(normal['데이터 길이']))"
      ],
      "metadata": {
        "colab": {
          "base_uri": "https://localhost:8080/"
        },
        "id": "pDbhWdp3etM2",
        "outputId": "d9cb696a-ea7b-4ce0-afe5-4b50acda676f"
      },
      "execution_count": 15,
      "outputs": [
        {
          "output_type": "stream",
          "name": "stdout",
          "text": [
            "데이터 길이 종류 :  {1897}\n"
          ]
        }
      ]
    },
    {
      "cell_type": "markdown",
      "source": [
        "        데이터 길이의 종류는 1897 한 종류임.\n",
        "        즉, 전력 데이터의 길이가 모두 1897로\n",
        "        1897초의 데이터임을 알 수 있음."
      ],
      "metadata": {
        "id": "p402d6kwgfVt"
      }
    },
    {
      "cell_type": "markdown",
      "source": [
        "##**3.2 Train Data Set 만들기**"
      ],
      "metadata": {
        "id": "FwG1atjxgtTN"
      }
    },
    {
      "cell_type": "markdown",
      "source": [
        "        keras를 이용한 딥러닝.\n",
        "        pandas series 형태인 전력데이터를 array 형태로 치환."
      ],
      "metadata": {
        "id": "bF5ZCKSihE5U"
      }
    },
    {
      "cell_type": "code",
      "source": [
        "X = np.array(data['전력'].iloc[0]) # 독립변수 X.\n",
        "X.shape"
      ],
      "metadata": {
        "colab": {
          "base_uri": "https://localhost:8080/"
        },
        "id": "jxFDCgS0gcey",
        "outputId": "19c42e28-a1c5-4472-b7f9-f1ec8f004b08"
      },
      "execution_count": 16,
      "outputs": [
        {
          "output_type": "execute_result",
          "data": {
            "text/plain": [
              "(1897, 1)"
            ]
          },
          "metadata": {},
          "execution_count": 16
        }
      ]
    },
    {
      "cell_type": "code",
      "source": [
        "for i in range(1, len(data)) : # 0번째는 이미 바꿨기 때문.\n",
        "  X = np.concatenate((X, np.array(data['전력'].iloc[i])))\n",
        "\n",
        "X.shape # 1897 * 77"
      ],
      "metadata": {
        "colab": {
          "base_uri": "https://localhost:8080/"
        },
        "id": "vAY2iIO8hoLr",
        "outputId": "6ac06f99-b6b6-4c1d-bd8d-0a1be65a21ea"
      },
      "execution_count": 17,
      "outputs": [
        {
          "output_type": "execute_result",
          "data": {
            "text/plain": [
              "(146069, 1)"
            ]
          },
          "metadata": {},
          "execution_count": 17
        }
      ]
    },
    {
      "cell_type": "code",
      "source": [
        "X, Y = X, np.array(data['이상유무']) # 종속변수 Y.\n",
        "X.shape, Y.shape"
      ],
      "metadata": {
        "colab": {
          "base_uri": "https://localhost:8080/"
        },
        "id": "hxq3PeF1id3O",
        "outputId": "cabb860b-d835-4814-c879-cdf7de1d74ee"
      },
      "execution_count": 18,
      "outputs": [
        {
          "output_type": "execute_result",
          "data": {
            "text/plain": [
              "((146069, 1), (77,))"
            ]
          },
          "metadata": {},
          "execution_count": 18
        }
      ]
    },
    {
      "cell_type": "code",
      "source": [
        "# 배열 및 차원 변경.\n",
        "# np.reshape(변경할 배열, 차원)\n",
        "''' \n",
        ".reshape(-1, 정수)인 경우,\n",
        "(행 자리에 -1, 열 위치에 임의의 정수가 있는 경우)\n",
        "정수에 따라 전체 원소가 해당 열 개수만큼 자동으로 구조화.\n",
        "\n",
        ".reshape(정수, -1)인 경우,\n",
        "(행 자리에 임의의 정수, 열 자리에 -1이 있는 경우),\n",
        "행의 정수만큼 행이 생성돼 자동으로 구조화.\n",
        "'''\n",
        "\n",
        "X, Y = X.reshape(-1, 1897), Y.reshape(-1, 1)\n",
        "X.shape, Y.shape"
      ],
      "metadata": {
        "colab": {
          "base_uri": "https://localhost:8080/"
        },
        "id": "PMmmAo9OjvMy",
        "outputId": "c8296ce9-5ccc-4930-de29-698126c79860"
      },
      "execution_count": 19,
      "outputs": [
        {
          "output_type": "execute_result",
          "data": {
            "text/plain": [
              "((77, 1897), (77, 1))"
            ]
          },
          "metadata": {},
          "execution_count": 19
        }
      ]
    },
    {
      "cell_type": "markdown",
      "source": [
        "        train_x는 1897초 데이터를 하나의 label로 구성.\n",
        "        데이터 구성 : 총 77 개 중 정상 66개, 이상 11개"
      ],
      "metadata": {
        "id": "UgUMYVXzn1F4"
      }
    },
    {
      "cell_type": "markdown",
      "source": [
        "#**4. 모델링**"
      ],
      "metadata": {
        "id": "YFKYlWHioQmo"
      }
    },
    {
      "cell_type": "markdown",
      "source": [
        "##**4.1결과 지표**\n",
        "    모델 결과와 실제 값의 차이 비교 지표.\n",
        "\n",
        "* 혼동행렬(Confusion Matrix)\n",
        "\n",
        "![image.png](data:image/png;base64,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)\n",
        "\n",
        "* 결정계수($R^2$)\n",
        "\n",
        "![image.png](data:image/png;base64,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)\n",
        "\n",
        "    일반적으로 결정계수의 결과 값은 훈련된 모델의 선형적 설명도를 뜻함.\n",
        "    수치가 높을수록 설명력이 높다는 의미.\n",
        "    목표에 따라 acc, precision, recall, f1지표의 중점이 달라짐."
      ],
      "metadata": {
        "id": "fp_Sd2CToUqC"
      }
    },
    {
      "cell_type": "markdown",
      "source": [
        "##**4.2 머신러닝 모델**\n",
        "    데이터를 훈련-테스트용으로 나누어 모델링.\n",
        "    훈련 : 테스트 = 7 : 3"
      ],
      "metadata": {
        "id": "51qzBklcqzY2"
      }
    },
    {
      "cell_type": "code",
      "source": [
        "train_x, test_x, train_y, test_y = train_test_split(X, Y, \n",
        "                                                    test_size = 0.3,\n",
        "                                                    shuffle = True,\n",
        "                                                    random_state = 1004) # 재현 가능을 위해 난수 초기값 설정"
      ],
      "metadata": {
        "id": "51j-h1vGnlkU"
      },
      "execution_count": 20,
      "outputs": []
    },
    {
      "cell_type": "code",
      "source": [
        "train_x.shape, test_x.shape"
      ],
      "metadata": {
        "colab": {
          "base_uri": "https://localhost:8080/"
        },
        "id": "JGsy_vBrsILq",
        "outputId": "c7d9a984-6fc8-46f2-e51b-fc81f399efb4"
      },
      "execution_count": 21,
      "outputs": [
        {
          "output_type": "execute_result",
          "data": {
            "text/plain": [
              "((53, 1897), (24, 1897))"
            ]
          },
          "metadata": {},
          "execution_count": 21
        }
      ]
    },
    {
      "cell_type": "code",
      "source": [
        "train_y.shape, test_y.shape"
      ],
      "metadata": {
        "colab": {
          "base_uri": "https://localhost:8080/"
        },
        "id": "znBWneIfsOTO",
        "outputId": "67a1218f-62e1-4609-b46a-64324f6d4086"
      },
      "execution_count": 22,
      "outputs": [
        {
          "output_type": "execute_result",
          "data": {
            "text/plain": [
              "((53, 1), (24, 1))"
            ]
          },
          "metadata": {},
          "execution_count": 22
        }
      ]
    },
    {
      "cell_type": "markdown",
      "source": [
        "###**4.2.1 로지스틱 회귀**\n",
        "    범주형데이터를 종속변수로 가진 입력데이터에 많이 활용되는 분류 기법."
      ],
      "metadata": {
        "id": "vzcY2kO3sVd2"
      }
    },
    {
      "cell_type": "code",
      "source": [
        "logit = LogisticRegression() # 함수 할당\n",
        "\n",
        "model = logit.fit(train_x, train_y) # 모델변수.fit(학습용 독립변수, 학습용 종속변수)\n",
        "\n",
        "r_2 = logit.score(test_x, test_y) # 모델변수.score(독립변수, 종속변수)\n",
        "# 여기서는 테스트용 데이터셋의 정확도 계산.\n",
        "\n",
        "y_pred = logit.predict(test_x) # 모델변수.predict(예측하고자 하는 입력변수 데이터)\n",
        "\n",
        "precision = metrics.precision_score(y_pred=y_pred, y_true=test_y) # 정밀도\n",
        "'''\n",
        "분류기가 참으로 분류한 결과 중에서 실제 참의 비율\n",
        "이 예제에서는 모델이 이상이라 분류한 것 중 실제 이상인 비율.\n",
        "'''\n",
        "\n",
        "accuracy = metrics.accuracy_score(y_pred = y_pred, y_true = test_y) # 정확도\n",
        "'''\n",
        "모든 분류 결과 중에서 살제참-예측참 그리고 실제거짓-예측거짓'의 비율\n",
        "이 예제에서는 전체 데이터를 대상으로 모델이 올바르게 분류한 비율.\n",
        "'''\n",
        "\n",
        "recall = metrics.recall_score(y_pred = y_pred, y_true = test_y) # 재현율(민감도와 동일한 값.)\n",
        "'''\n",
        "실제 참 중에서 분류기가 참으로 분류한 비율\n",
        "이 예제에서는 실제 값이 이상인 것 중 모델이 이상이라 분류한 비율.\n",
        "'''\n",
        "\n",
        "f1 = metrics.f1_score(y_pred = y_pred, y_true = test_y)\n",
        "'''\n",
        "정밀도와 재현율의 조화평균으로 둘을 조합해 하나의 통계치 반환,\n",
        "주로 분류 클래스 간 데이터가 심각한 불균형을 이루는 경우 사용.\n",
        "조화평균 사용 이유 ; \n",
        "precision과 recall이 0 에 가까울수록 F1 score도 동일하게 낮은 값을 갖도록 하기 위해\n",
        "\n",
        "'''\n",
        "\n",
        "#평가지표를 한 번에 볼 수 있는 모듈.\n",
        "results = metrics.classification_report(y_pred = y_pred, y_true = test_y)\n",
        "'''\n",
        "precision, recall, f1-score, support, accuracy, macro avg, weighted avg가 반환.\n",
        "정밀도, 재현율, f1-score, 각 클래스별 데이터 개수, 정확도, 클래스별 TP-FN-FP-TN 값의 평균, \n",
        "macro avg의 확장으로 클래스별로 해당하는 data의 개수에 가주치를 주어 평균 계산.\n",
        "dict형으로 반환하고 싶으면 output_dict = True 파라미터 사용하면 됨.\n",
        "'''\n",
        "\n",
        "\n",
        "\n",
        "conf_matrix = confusion_matrix(test_y, y_pred) #정확도 측정을 위한 혼동행렬 함수 호출.\n",
        "#타겟의 원래 클래스와 예측한 클래스가 일치하는지를 개수로 센 결과를 표로 시각화.\n",
        "# '테스트용 종속변수'와 '테스트용 독립변수로 예측한 종속변수'로 정확도 측정. \n",
        "\n",
        "'''\n",
        "TP == 23,\n",
        "FP == 0,\n",
        "FN == 0,\n",
        "TN == 1을 배열로 반환.\n",
        "'''\n",
        "print('\"평가 지표 출력을 위한 과정\"')"
      ],
      "metadata": {
        "colab": {
          "base_uri": "https://localhost:8080/"
        },
        "id": "5LiKbPotsS8n",
        "outputId": "f4fe0bda-0822-4577-9e19-098f0ff6938a"
      },
      "execution_count": 23,
      "outputs": [
        {
          "output_type": "stream",
          "name": "stdout",
          "text": [
            "\"평가 지표 출력을 위한 과정\"\n"
          ]
        }
      ]
    },
    {
      "cell_type": "code",
      "source": [
        "#평가 지표 출력\n",
        "\n",
        "print(\"결정계수(r_2 score : \", r_2)\n",
        "print(\"정밀도(precision) : \", precision)\n",
        "print(\"정확도(accuracy) : \", accuracy)\n",
        "print(\"재현율(recall) : \", recall)\n",
        "print(\"F1 Score : \", f1)\n",
        "\n",
        "print('\\n\\n')\n",
        "\n",
        "print(results)\n",
        "\n",
        "print('\\n\\n')\n",
        "\n",
        "print('confusion_matrix\\n\\n', conf_matrix)\n",
        "\n",
        "print('\\n\\n')\n",
        "\n",
        "# .ravel()은 다차원 배열을 1차원 배열로 변환하는 넘파이 함수. .reshape()과 대조를 이룸.\n",
        "# .flatten()함수와 비슷한데 원본 배열을 수정한다는 것에서 차이가 있음. flatten()은 복사본 만들어서 배열 변환.\n",
        "tn, fp, fn, tp = confusion_matrix(test_y, y_pred).ravel()\n",
        "print('TN, FP, FN, TP : ',  tn, fp, fn, fp)"
      ],
      "metadata": {
        "colab": {
          "base_uri": "https://localhost:8080/"
        },
        "id": "qmy04wVi3UqV",
        "outputId": "034fd222-18c8-4bdb-b6a1-87c11e4f0529"
      },
      "execution_count": 24,
      "outputs": [
        {
          "output_type": "stream",
          "name": "stdout",
          "text": [
            "결정계수(r_2 score :  1.0\n",
            "정밀도(precision) :  1.0\n",
            "정확도(accuracy) :  1.0\n",
            "재현율(recall) :  1.0\n",
            "F1 Score :  1.0\n",
            "\n",
            "\n",
            "\n",
            "              precision    recall  f1-score   support\n",
            "\n",
            "           0       1.00      1.00      1.00        23\n",
            "           1       1.00      1.00      1.00         1\n",
            "\n",
            "    accuracy                           1.00        24\n",
            "   macro avg       1.00      1.00      1.00        24\n",
            "weighted avg       1.00      1.00      1.00        24\n",
            "\n",
            "\n",
            "\n",
            "\n",
            "confusion_matrix\n",
            "\n",
            " [[23  0]\n",
            " [ 0  1]]\n",
            "\n",
            "\n",
            "\n",
            "TN, FP, FN, TP :  23 0 0 0\n"
          ]
        }
      ]
    },
    {
      "cell_type": "markdown",
      "source": [
        "###**4.2.2 의사결정나무 분류**\n",
        "\n",
        "    의사결정나무 : 데이터를 분석해 데이터 간 존재하는 패턴을\n",
        "    예측 가능한 규칙을 나무 형태와 비슷한 조합으로 나타내는 것.\n"
      ],
      "metadata": {
        "id": "TN1Elkfo2TNt"
      }
    },
    {
      "cell_type": "markdown",
      "source": [
        "**Dicision Tree Classifier()의 옵션.**\n",
        "\n",
        "    criterion ; 분할 품질을 측정하는 기능(default ; gini)\n",
        "    \n",
        "    splitter ; 각 노드에서 분할을 선택할 때 사용하는 전략(default ; best)\n",
        "    \n",
        "    mat_depth ; 트리의 최대 깊이(값이 클수록 복잡도 증가)\n",
        "    \n",
        "    min_samples_split ; 자식 노드를 분할할 때 필요한 최소 샘플 수(default ; 2)\n",
        "    \n",
        "    min_samples_leaf ; 리프 노드에 있어야 할 최소 샘플 수(default ; 1)\n",
        "    \n",
        "    min_weight_fraction_leaf ; min_samples_leaf와 동일하지만 가중치가 부여된 샘플 수에서의 비율\n",
        "    \n",
        "    max_features ; 각 노드에서 분할에 사용할 특징의 최대 수\n",
        "    \n",
        "    random_state ; 난수 seed 설정\n",
        "    \n",
        "    max_leaf_nodes ; 리프 노드의 최대 수\n",
        "    \n",
        "    min_impurity_decrease ; 최소 불순도\n",
        "    \n",
        "    min_impurity_split ; 나무 성장을 멈추기 위한 임계치\n",
        "    \n",
        "    class_weight ; 각 클래스에 대한 가중치\n",
        "    \n",
        "    presort ; 데이터 정렬 필요 여부"
      ],
      "metadata": {
        "id": "y0sEsw35hKTs"
      }
    },
    {
      "cell_type": "code",
      "source": [
        "Tree = tree.DecisionTreeClassifier(criterion = 'gini', \n",
        "                                   random_state = 1004) #criterion == 불순도 계산 옵션으로 'gini'와 'entropy'가 있음.\n",
        "\n",
        "Tree = Tree.fit(train_x, train_y)\n",
        "\n",
        "#-------------------------------------------------------------------------------\n",
        "R_2 = Tree.score(test_x, test_y)\n",
        "\n",
        "prediction = Tree.predict(test_x)\n",
        "\n",
        "print('r2_score : ', R_2, '\\n')\n",
        "\n",
        "print('accuracy : ' , metrics.accuracy_score(y_pred = prediction, y_true= test_y), '\\n')\n",
        "\n",
        "print('precision : ' , metrics.precision_score(y_pred = prediction, y_true= test_y), '\\n')\n",
        "\n",
        "print('recall : ' , metrics.recall_score(y_pred = prediction, y_true= test_y), '\\n')\n",
        "\n",
        "print('f1_score : ' , metrics.f1_score(y_pred = prediction, y_true= test_y), '\\n')\n",
        "\n",
        "#-------------------------------------------------------------------------------\n",
        "tree_results = metrics.classification_report(y_pred = prediction, y_true= test_y)\n",
        "tree_conf_matrix = metrics.confusion_matrix(y_pred = prediction, y_true= test_y)\n",
        "\n",
        "print('<Summary> \\n  ', tree_results, '\\n')\n",
        "print('<Confusion_matrix> \\n' , tree_conf_matrix, '\\n')\n",
        "\n",
        "#-------------------------------------------------------------------------------\n",
        "tn, fp, fn, tp =metrics.confusion_matrix(y_pred=prediction,y_true=test_y).ravel()\n",
        "\n",
        "print(\"TN, FP, FN, TP:\",tn,fp,fn,tp) "
      ],
      "metadata": {
        "id": "BpDTCLWc3-y1",
        "colab": {
          "base_uri": "https://localhost:8080/"
        },
        "outputId": "2f4718f8-28f2-4464-b206-841ef476214d"
      },
      "execution_count": 25,
      "outputs": [
        {
          "output_type": "stream",
          "name": "stdout",
          "text": [
            "r2_score :  1.0 \n",
            "\n",
            "accuracy :  1.0 \n",
            "\n",
            "precision :  1.0 \n",
            "\n",
            "recall :  1.0 \n",
            "\n",
            "f1_score :  1.0 \n",
            "\n",
            "<Summary> \n",
            "                 precision    recall  f1-score   support\n",
            "\n",
            "           0       1.00      1.00      1.00        23\n",
            "           1       1.00      1.00      1.00         1\n",
            "\n",
            "    accuracy                           1.00        24\n",
            "   macro avg       1.00      1.00      1.00        24\n",
            "weighted avg       1.00      1.00      1.00        24\n",
            " \n",
            "\n",
            "<Confusion_matrix> \n",
            " [[23  0]\n",
            " [ 0  1]] \n",
            "\n",
            "TN, FP, FN, TP: 23 0 0 1\n"
          ]
        }
      ]
    },
    {
      "cell_type": "code",
      "source": [
        "#의사결정나무 시각화.\n",
        "plt.figure(figsize = (20,15))\n",
        "tree.plot_tree(Tree,\n",
        "               filled = True,\n",
        "               impurity = True)"
      ],
      "metadata": {
        "colab": {
          "base_uri": "https://localhost:8080/",
          "height": 687
        },
        "id": "JE6KGR9LePz6",
        "outputId": "06c02031-07e1-493a-ca4b-31cd00ad851c"
      },
      "execution_count": 26,
      "outputs": [
        {
          "output_type": "execute_result",
          "data": {
            "text/plain": [
              "[Text(558.0, 611.55, 'X[1507] <= 1674.357\\ngini = 0.306\\nsamples = 53\\nvalue = [43, 10]'),\n",
              " Text(279.0, 203.85000000000002, 'gini = 0.0\\nsamples = 43\\nvalue = [43, 0]'),\n",
              " Text(837.0, 203.85000000000002, 'gini = 0.0\\nsamples = 10\\nvalue = [0, 10]')]"
            ]
          },
          "metadata": {},
          "execution_count": 26
        },
        {
          "output_type": "display_data",
          "data": {
            "image/png": "[encoded data removed]",
            "text/plain": [
              "<Figure size 1440x1080 with 1 Axes>"
            ]
          },
          "metadata": {
            "needs_background": "light"
          }
        }
      ]
    },
    {
      "cell_type": "markdown",
      "source": [
        "###**4.2.3 랜덤포레스트 분류**\n",
        "\n",
        "**랜덤포레스트**\n",
        "- 과적합 발생 가능성으로 의사결정나무는 일반화에 부적합한 상황이 나올 수 있음.\n",
        "- 이를 보완하기 위해 항상블 모델을 채택해 만든 기법."
      ],
      "metadata": {
        "id": "LCuj3c7X7Az-"
      }
    },
    {
      "cell_type": "markdown",
      "source": [
        "* 훈련 과정에서 구성한 다수의 결정 트리를 랜덤으로 학습한 뒤, 분류 및 회귀의 결과 도출에 사용.\n",
        "* 다시 말해, 특정 특성을 선택하는 트리를 여러 개 생성하고, 이를 기반으로 작업 수행.\n",
        "* 각각의 트리는 독립적으로 학습하기에 학습과정 병렬화 가능.\n",
        "* 기본 의사결정나무에서 Tree Correlation이라 하는 특정 feature 하나가 정답에 많은 영향을 주면\n",
        "* 대부분의 결과치가 비슷하게 나오는 문제점 해결.\n",
        "* 파라미터의 개수가 적어 튜닝이 쉬움.\n",
        "* 랜덤하게 만들어지기 때문에 random_state를 고정해야 같은 결과 도출됨.\n",
        "      "
      ],
      "metadata": {
        "id": "3O-Wb4XoSANv"
      }
    },
    {
      "cell_type": "markdown",
      "source": [
        "**Parameters in RandomForestClassifier()**\n",
        "\n",
        "  \n",
        "    n_estimators ; 모델에서 사용할(=학습 시 생성할) 트리의 개수\n",
        "    \n",
        "    criterion ; 분할 품질 측정 옵션(gini, entropy)(default ; gini)\n",
        "    \n",
        "    max_depth ; 트리의 최대 깊이\n",
        "    \n",
        "    min_samples_split ; 내부 노드 분할에 필요한 최소 샘플 수(default ; 2)\n",
        "    \n",
        "    min_samples_leaf ; 리프 노드에 있어야 할 최소 샘플 수(default ; 1)\n",
        "    \n",
        "    min_weight_fraction_leaf ; min_samples_leaf와 같지만 가중치가 부여된 샘플 수에서의 비율\n",
        "    \n",
        "    max_features ; 각 노드에서 분할에 사용할 특징의 최대 개수\n",
        "    \n",
        "    max_leaf_nodes ; 리프 노드의 최대 수\n",
        "    \n",
        "    min_impurity_decrease ; 최소 불순도\n",
        "    \n",
        "    min_impurity_split ; 나무 성장을 멈추기 위한 임계치\n",
        "    \n",
        "    bootstrap ; 부트스트랩(중복 허용 샘플링) 사용 여부\n",
        "    \n",
        "    oob_score ; 일반화 정확도를 줄이기 위해 외부 샘플(부트스트랩 샘플링 시 선택되지 않은 샘플) 사용 여부\n",
        "\n",
        "    n_jobs ; 적합성과 예측성을 위해 병렬로 실행할 작업의 수\n",
        "\n",
        "    random_state ; 난수 seed 설정\n",
        "\n",
        "    verbose ; 실행 과정 출력 여부\n",
        "\n",
        "    warm_start ; 이전 호출에 사용한 solution 재사용 여부(기존 트리를 유지하고 훈련 추가 여부)\n",
        "\n",
        "    class_weight ; 클래스에 대한 가중치들의 값\n",
        "\n",
        "\n",
        "\n"
      ],
      "metadata": {
        "id": "Pc9spY4WUZoi"
      }
    },
    {
      "cell_type": "code",
      "source": [
        "forest = RandomForestClassifier(n_estimators = 100, max_depth=1000, criterion = 'gini')\n",
        "forest.fit(train_x, train_y)\n",
        "\n",
        "#-------------------------------------------------------------------------------\n",
        "r2 = forest.score(test_x, test_y)\n",
        "\n",
        "y_pred_forest = forest.predict(test_x)\n",
        "\n",
        "print('r2_score : ', r2, '\\n')\n",
        "\n",
        "print('accuracy : ' , metrics.accuracy_score(y_pred = y_pred_forest, y_true= test_y), '\\n')\n",
        "\n",
        "print('precision : ' , metrics.precision_score(y_pred = y_pred_forest, y_true= test_y), '\\n')\n",
        "\n",
        "print('recall : ' , metrics.recall_score(y_pred = y_pred_forest, y_true= test_y), '\\n')\n",
        "\n",
        "print('f1_score : ' , metrics.f1_score(y_pred = y_pred_forest, y_true= test_y), '\\n')\n",
        "\n",
        "#-------------------------------------------------------------------------------\n",
        "forest_results = metrics.classification_report(y_pred = y_pred_forest, y_true= test_y)\n",
        "forest_conf_matrix = metrics.confusion_matrix(y_pred = y_pred_forest, y_true= test_y)\n",
        "\n",
        "print('<Summary> \\n  ', forest_results, '\\n')\n",
        "print('<Confusion_matrix> \\n' , forest_conf_matrix, '\\n')\n",
        "\n",
        "#-------------------------------------------------------------------------------\n",
        "tn, fp, fn, tp =metrics.confusion_matrix(y_pred=y_pred_forest, y_true=test_y).ravel()\n",
        "\n",
        "print(\"TN, FP, FN, TP:\",tn,fp,fn,tp) \n"
      ],
      "metadata": {
        "colab": {
          "base_uri": "https://localhost:8080/"
        },
        "id": "LwxjGuPn6x0c",
        "outputId": "7d89ac3f-67a4-4da5-8970-1514efeb053a"
      },
      "execution_count": 27,
      "outputs": [
        {
          "output_type": "stream",
          "name": "stdout",
          "text": [
            "r2_score :  1.0 \n",
            "\n",
            "accuracy :  1.0 \n",
            "\n",
            "precision :  1.0 \n",
            "\n",
            "recall :  1.0 \n",
            "\n",
            "f1_score :  1.0 \n",
            "\n",
            "<Summary> \n",
            "                 precision    recall  f1-score   support\n",
            "\n",
            "           0       1.00      1.00      1.00        23\n",
            "           1       1.00      1.00      1.00         1\n",
            "\n",
            "    accuracy                           1.00        24\n",
            "   macro avg       1.00      1.00      1.00        24\n",
            "weighted avg       1.00      1.00      1.00        24\n",
            " \n",
            "\n",
            "<Confusion_matrix> \n",
            " [[23  0]\n",
            " [ 0  1]] \n",
            "\n",
            "TN, FP, FN, TP: 23 0 0 1\n"
          ]
        }
      ]
    },
    {
      "cell_type": "markdown",
      "source": [
        "###**4.2.4 XG부스트 분류**\n",
        "\n",
        "**XGBoost**\n",
        "\n",
        "- 랜덤포레스트기법과 마찬가지로 앙상블 모델 기법을 채택한 분류 방법.\n",
        "- 부스팅의 원리를 이용해 가중치를 갱신함."
      ],
      "metadata": {
        "id": "IiwBqVPIlpWl"
      }
    },
    {
      "cell_type": "markdown",
      "source": [
        "* 뛰어난 예측 성능.\n",
        "* 과적합 규제.\n",
        "* Tree pruning(트리 가지치기) : 긍정 이득이 없는 분할을 가지치기해서 분할 수를 줄임.\n",
        "* 자체 내장된 교차 검증을 수행해 최적화된 반복 수행 횟수를 가질 수 있음.\n",
        "* 결손값을 자체적으로 처리함."
      ],
      "metadata": {
        "id": "xxnYq03kmYUL"
      }
    },
    {
      "cell_type": "markdown",
      "source": [
        "**일반 파라미터** : 부스팅 수행 시 트리를 사용할지, 선형 모델을 사용할지 등을 선택.\n",
        "    \n",
        "    booster ; 어떤 부스터 구조를 쓸지 결정.\n",
        "    (default ; gbtree // gbtree, gblinear, dart)\n",
        "    n_jobs ; XGBoost를 실행하는 데 사용되는 병렬 스레드 수.\n",
        "\n",
        "**부스터 파라미터** : 선택한 부스터에 따라 적용하는 파라미터 달라짐.\n",
        "    \n",
        "    learning_rate ; 학습 비율, 0.3이 default.\n",
        "    n_estimators ; 생성할 weak learner의 수, 100이 default.\n",
        "                  learning_rate가 낮을 땐 이걸 높여야 과적합 방지.\n",
        "    max_depth ; 트리의 최대 깊이, 6이 default.\n",
        "    min_child_weight ; 관측치에 대한 가중치 합의 최소, 1이 default.\n",
        "                      값이 높을수록 과적합 방지.\n",
        "    gamma ; 리프노드의 추가 분할을 결정할 최소 손실 감소값.\n",
        "            0이 default, 해당 값보다 손실이 크게 감소할 때 분리함.\n",
        "    subsample ; weak learner가 학습에 사용할 데이터 샘플링 비율.\n",
        "                1이 default, 보통 0.5 ~ 1 사용. 낮을수록 과적합 방지.\n",
        "    colsample_bytree ; 각 tree별로 사용된 feature의 %.\n",
        "                      1이 default, 보통 0.5 ~ 1 사용. 낮을수록 과적합 방지.\n",
        "    lambda ; 가중치에 대한 L2 Regularization(Ridge, 과적합 방지) 적용 값, 1이 default.\n",
        "    alpha ; 가중치에 대한 L1 Regularization(Lasso, 과적합 방지) 적용 값, 0이 default.\n",
        "\n",
        "**학습 파라미터** : 학습 시나리오(객체함수, 평가지표 등)를 결정.\n",
        "    \n",
        "    objective ; 분류 방법 설정.\n",
        "                회귀, 이진분류, 클래스로 반환하는 다중분류, 확률을 반환하는 다중분류.\n",
        "    eval_metric ; 검증에 사용하는 함수 정의.\n",
        "                  회귀분석인 경우 'rmse', 클래스 분류인 경우 'error'\n"
      ],
      "metadata": {
        "id": "56JV1qrxnKEt"
      }
    },
    {
      "cell_type": "code",
      "source": [
        "xgb = XGBClassifier(learning_rate=0.0001, objective = 'reg:squarederror') #제곱 손실이 있는 회귀로 설정.\n",
        "xgb.fit(np.array(train_x), np.array(train_y))\n",
        "\n",
        "#-------------------------------------------------------------------------------\n",
        "R2 = xgb.score(test_x, test_y)\n",
        "\n",
        "xgb_pred = xgb.predict(np.array(test_x))\n",
        "\n",
        "print('r2_score : ', R2, '\\n')\n",
        "\n",
        "print('accuracy : ' , metrics.accuracy_score(y_pred = xgb_pred, y_true= test_y), '\\n')\n",
        "\n",
        "print('precision : ' , metrics.precision_score(y_pred = xgb_pred, y_true= test_y), '\\n')\n",
        "\n",
        "print('recall : ' , metrics.recall_score(y_pred = xgb_pred, y_true= test_y), '\\n')\n",
        "\n",
        "print('f1_score : ' , metrics.f1_score(y_pred = xgb_pred, y_true= test_y), '\\n')\n",
        "\n",
        "#-------------------------------------------------------------------------------\n",
        "xgb_results = metrics.classification_report(y_pred = xgb_pred, y_true= test_y)\n",
        "xgb_conf_matrix = metrics.confusion_matrix(y_pred = xgb_pred, y_true= test_y)\n",
        "\n",
        "print('<Summary> \\n  ', xgb_results, '\\n')\n",
        "print('<Confusion_matrix> \\n' , xgb_conf_matrix, '\\n')\n",
        "\n",
        "#-------------------------------------------------------------------------------\n",
        "tn, fp, fn, tp =metrics.confusion_matrix(y_pred=xgb_pred, y_true=test_y).ravel()\n",
        "\n",
        "print(\"TN, FP, FN, TP:\",tn,fp,fn,tp) "
      ],
      "metadata": {
        "colab": {
          "base_uri": "https://localhost:8080/"
        },
        "id": "_iYHpaVnEO1K",
        "outputId": "af41ee3c-da84-4f6d-f4f8-b82efa27e7e2"
      },
      "execution_count": 28,
      "outputs": [
        {
          "output_type": "stream",
          "name": "stdout",
          "text": [
            "r2_score :  1.0 \n",
            "\n",
            "accuracy :  1.0 \n",
            "\n",
            "precision :  1.0 \n",
            "\n",
            "recall :  1.0 \n",
            "\n",
            "f1_score :  1.0 \n",
            "\n",
            "<Summary> \n",
            "                 precision    recall  f1-score   support\n",
            "\n",
            "           0       1.00      1.00      1.00        23\n",
            "           1       1.00      1.00      1.00         1\n",
            "\n",
            "    accuracy                           1.00        24\n",
            "   macro avg       1.00      1.00      1.00        24\n",
            "weighted avg       1.00      1.00      1.00        24\n",
            " \n",
            "\n",
            "<Confusion_matrix> \n",
            " [[23  0]\n",
            " [ 0  1]] \n",
            "\n",
            "TN, FP, FN, TP: 23 0 0 1\n"
          ]
        }
      ]
    },
    {
      "cell_type": "markdown",
      "source": [
        "##**4.3 모델 저장 및 불러 오기**\n",
        "\n",
        "- 모델 훈련 종료 후 상황이나 조건에 부합하는 성능을 가진 모델 저장 및 호출."
      ],
      "metadata": {
        "id": "w1ATgVn8yNNc"
      }
    },
    {
      "cell_type": "code",
      "source": [
        "# 모델 저장.\n",
        "\n",
        "joblib.dump(logit, '/logit.pkl') #joblib.dump() ; 임의의 객체를 pkl 형식으로 저장.\n",
        "joblib.dump(Tree, '/Tree.pkl')\n",
        "joblib.dump(forest, '/forest.pkl')\n",
        "joblib.dump(xgb, '/xgb.pkl')"
      ],
      "metadata": {
        "colab": {
          "base_uri": "https://localhost:8080/"
        },
        "id": "ODZk1z0FyKO8",
        "outputId": "50f49fc4-fec9-4885-f96d-29ad3b3b55b6"
      },
      "execution_count": 29,
      "outputs": [
        {
          "output_type": "execute_result",
          "data": {
            "text/plain": [
              "['/xgb.pkl']"
            ]
          },
          "metadata": {},
          "execution_count": 29
        }
      ]
    },
    {
      "cell_type": "code",
      "source": [
        "# 모델 불러 오기.\n",
        "\n",
        "load_model_logit = joblib.load('/logit.pkl') # joblib.load() ; pkl 형식으로 저장된 객체 호출.\n",
        "load_model_Tree = joblib.load('/Tree.pkl')\n",
        "load_model_forest = joblib.load('/forest.pkl')\n",
        "load_model_xgb = joblib.load('/xgb.pkl')"
      ],
      "metadata": {
        "id": "ydj4FwWxzv1W"
      },
      "execution_count": 30,
      "outputs": []
    }
  ]
}